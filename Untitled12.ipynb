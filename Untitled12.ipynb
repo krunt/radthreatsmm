{
 "cells": [
  {
   "cell_type": "code",
   "execution_count": 125,
   "metadata": {},
   "outputs": [],
   "source": [
    "import pandas as pd\n",
    "import pyarrow.parquet as pq\n",
    "import os\n",
    "import matplotlib\n",
    "import numpy as np\n",
    "import pickle as pkl\n",
    "import matplotlib.pyplot as plt\n",
    "#import tqdm\n",
    "from tqdm import tqdm_notebook\n",
    "%matplotlib inline \n",
    "\n",
    "EBINS=128\n",
    "MAX_ENERGY=2500\n",
    "ncomp_bg=8\n",
    "ncomp_bgs=10\n",
    "\n",
    "TSCALE_LIST = [0.125,0.25,0.5,1.0,2.0,4.0]\n",
    "BINS_PER_TSCALE = [128,128,128,128,128,128]\n",
    "TWIN_PER_TSCALE = [1, 1, 1, 3, 3, 3]\n",
    "TWIN = np.sum(TWIN_PER_TSCALE)"
   ]
  },
  {
   "cell_type": "code",
   "execution_count": 126,
   "metadata": {},
   "outputs": [],
   "source": [
    "def load_obj(fpath):\n",
    "    fd = open(fpath,\"rb\")\n",
    "    ret = pkl.load(fd)\n",
    "    fd.close()\n",
    "    return ret"
   ]
  },
  {
   "cell_type": "code",
   "execution_count": 127,
   "metadata": {},
   "outputs": [],
   "source": [
    "#submission = pd.read_csv(\"submission2.csv\")\n",
    "submission = pd.read_csv(\"submission3.csv\")\n",
    "submission_final = pd.read_csv(\"submission3.csv\").set_index(\"RunID\")\n",
    "\n",
    "model_bg = load_obj(\"model_bg.pkl\")\n",
    "model_bgs = load_obj(\"model_bgs.pkl\")\n",
    "model_bgs1 = load_obj(\"model_bgs1.pkl\")\n",
    "classifier = load_obj(\"multiclass_tree.pkl\")\n",
    "#fllist1 = load_obj(\"fl.pkl\")\n",
    "#fllist = np.array([elem[0] for elem in fllist1])"
   ]
  },
  {
   "cell_type": "code",
   "execution_count": 128,
   "metadata": {},
   "outputs": [
    {
     "data": {
      "application/vnd.jupyter.widget-view+json": {
       "model_id": "e2904b8bfe0b415db2acd3633bbdcf0f",
       "version_major": 2,
       "version_minor": 0
      },
      "text/plain": [
       "HBox(children=(IntProgress(value=0, max=1940), HTML(value='')))"
      ]
     },
     "metadata": {},
     "output_type": "display_data"
    }
   ],
   "source": [
    "run_list = []\n",
    "hist_list = []\n",
    "for row in tqdm_notebook(submission.values):\n",
    "    runid = int(row[0])\n",
    "    source_id = int(row[1])\n",
    "    source_time = row[2]\n",
    "    \n",
    "    if source_id == 0:\n",
    "        continue\n",
    "    #ix = np.where(np.array(fllist) == runid)\n",
    "    #if len(ix[0]) == 0:\n",
    "        #continue\n",
    "    #source_id = fllist1[ix[0][0]][1]\n",
    "    \n",
    "    g_dat = pd.read_csv(os.path.join(\"training\", \"%d.csv\" % runid), header=None)\n",
    "    g_dat = pd.concat([g_dat, g_dat])\n",
    "    g_dat = g_dat.reset_index()\n",
    "    \n",
    "    d0=g_dat[0]*1e-6\n",
    "    d1=np.cumsum(d0)\n",
    "    d2=g_dat[1]\n",
    "    \n",
    "    ebins = np.linspace(0,MAX_ENERGY,EBINS+1)\n",
    "    tmax = int(d1.values[-1] * 0.5)\n",
    "    tstep = 1\n",
    "    \n",
    "    num = 0\n",
    "    for ts in range(30, tmax):\n",
    "        for (k, tscale) in enumerate(TSCALE_LIST):\n",
    "            invtscale=1/tscale\n",
    "            for j in range(TWIN_PER_TSCALE[k]):\n",
    "                if TWIN_PER_TSCALE[k] == 0:\n",
    "                    continue\n",
    "                twinhalf = TWIN_PER_TSCALE[k]/2\n",
    "                dind = np.argwhere((d1 > ts + (twinhalf - j - 1) * invtscale) & (d1 < ts + (1 + twinhalf - j - 1) * invtscale)).flatten()\n",
    "                d3 = d2[dind]\n",
    "                hist = np.histogram(d3, bins=ebins)[0]\n",
    "                hist_list.append(hist)\n",
    "                num += 1\n",
    "    run_list.append([runid, source_id, source_time, num])"
   ]
  },
  {
   "cell_type": "code",
   "execution_count": 129,
   "metadata": {},
   "outputs": [],
   "source": [
    "vlist_source_b1 = model_bg.transform(hist_list)\n",
    "vlist_source_s1 = model_bgs.transform(hist_list)\n",
    "\n",
    "fit_bg = np.dot(vlist_source_b1, model_bg.components_)\n",
    "diff_fit_bg = np.abs(fit_bg - hist_list)\n",
    "\n",
    "fit_bgs = np.dot(vlist_source_s1, model_bgs.components_)\n",
    "diff_fit_bgs = np.abs(fit_bgs - hist_list)\n",
    "\n",
    "BINS = 64\n",
    "div_fit_bg = np.linalg.norm(diff_fit_bg[:,:BINS],axis=1) / np.linalg.norm(diff_fit_bgs[:,:BINS],axis=1)\n",
    "\n",
    "hist_list1 = model_bgs1.transform(hist_list)"
   ]
  },
  {
   "cell_type": "code",
   "execution_count": 130,
   "metadata": {},
   "outputs": [],
   "source": [
    "div_fit_bg = div_fit_bg.reshape(-1, TWIN)\n",
    "hist_list1 = hist_list1.reshape(-1, (ncomp_bg+ncomp_bgs)*TWIN)\n",
    "hist_list1 = np.hstack([hist_list1, div_fit_bg])"
   ]
  },
  {
   "cell_type": "code",
   "execution_count": 131,
   "metadata": {},
   "outputs": [],
   "source": [
    "pred_list1 = classifier.predict_proba(hist_list1)"
   ]
  },
  {
   "cell_type": "code",
   "execution_count": 132,
   "metadata": {},
   "outputs": [
    {
     "name": "stdout",
     "output_type": "stream",
     "text": [
      "1115172 (92931, 228) (1115172, 8) (1115172, 128) 1115172\n"
     ]
    }
   ],
   "source": [
    "print(len(hist_list),hist_list1.shape,vlist_source_b1.shape,diff_fit_bg.shape,len(hist_list))"
   ]
  },
  {
   "cell_type": "code",
   "execution_count": 133,
   "metadata": {},
   "outputs": [],
   "source": [
    "offs = 0\n",
    "for (i, elem) in enumerate(run_list):\n",
    "    num = int(elem[-1] / TWIN)\n",
    "    runid = int(elem[0])\n",
    "    source_id = int(elem[1])\n",
    "    source_time = elem[2]\n",
    "    \n",
    "    #print(\"offs: \", offs, offs+int(num/TWIN), pred_list1.shape[0])\n",
    "    \n",
    "    #print(pred_list1[offs:offs+num])\n",
    "    vprob = []\n",
    "    for val in pred_list1[offs:offs+num]:\n",
    "        #source_id = np.argmax(val)\n",
    "        vprob.append(val[source_id])\n",
    "        #vprob.append(val[source_id])\n",
    "    vprob = np.array(vprob)\n",
    "    dest_ts = 30 + np.argmax(vprob)\n",
    "    #print(runid,source_id, source_time, dest_ts)\n",
    "    submission_final.loc[[runid], [\"SourceTime\"]] = dest_ts\n",
    "    #print(pred_list1[offs:offs+num], axis=1))\n",
    "    \n",
    "    offs += num"
   ]
  },
  {
   "cell_type": "code",
   "execution_count": 134,
   "metadata": {},
   "outputs": [],
   "source": [
    "submission_final.to_csv(\"submission4.csv\")"
   ]
  },
  {
   "cell_type": "code",
   "execution_count": null,
   "metadata": {},
   "outputs": [],
   "source": []
  }
 ],
 "metadata": {
  "kernelspec": {
   "display_name": "Python 3",
   "language": "python",
   "name": "python3"
  },
  "language_info": {
   "codemirror_mode": {
    "name": "ipython",
    "version": 3
   },
   "file_extension": ".py",
   "mimetype": "text/x-python",
   "name": "python",
   "nbconvert_exporter": "python",
   "pygments_lexer": "ipython3",
   "version": "3.5.2"
  }
 },
 "nbformat": 4,
 "nbformat_minor": 2
}
