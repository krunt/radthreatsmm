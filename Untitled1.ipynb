{
 "cells": [
  {
   "cell_type": "code",
   "execution_count": 1,
   "metadata": {},
   "outputs": [],
   "source": [
    "import pandas as pd\n",
    "import pyarrow.parquet as pq\n",
    "import os\n",
    "import matplotlib\n",
    "import numpy as np\n",
    "import matplotlib.pyplot as plt\n",
    "%matplotlib inline  \n",
    "\n",
    "import pandas as pd\n",
    "import pyarrow.parquet as pq # Used to read the data\n",
    "import os \n",
    "import pywt\n",
    "import numpy as np\n",
    "from scipy.signal import resample\n",
    "from scipy import signal\n",
    "from sklearn import preprocessing\n",
    "from sklearn.model_selection import train_test_split\n",
    "from sklearn.utils import class_weight\n",
    "from sklearn.metrics import roc_curve\n",
    "from scipy.signal import butter, find_peaks, find_peaks_cwt, peak_widths, peak_prominences\n",
    "\n",
    "from sklearn.linear_model import LinearRegression\n",
    "from sklearn import linear_model"
   ]
  },
  {
   "cell_type": "code",
   "execution_count": 3,
   "metadata": {},
   "outputs": [],
   "source": [
    "NUM_BINS = 128\n",
    "ENERGY_THRESH = 2000"
   ]
  },
  {
   "cell_type": "code",
   "execution_count": 2,
   "metadata": {},
   "outputs": [],
   "source": [
    "sourceInfo = pd.read_csv(\"SourceInfov3/SourceData.csv\")"
   ]
  },
  {
   "cell_type": "code",
   "execution_count": 76,
   "metadata": {},
   "outputs": [],
   "source": [
    "dat = pd.read_csv(\"training/103921.csv\", header=None)\n",
    "dat[0] = np.cumsum(dat[0]*1e-6)\n",
    "sInfo1 = sourceInfo[(sourceInfo[\"SourceID\"] == 2) & (sourceInfo[\"Shielding\"] == 0)]"
   ]
  },
  {
   "cell_type": "code",
   "execution_count": null,
   "metadata": {},
   "outputs": [],
   "source": [
    "def getEnergyWindow(sourceTemplate, runDat, bgSpectraSeconds):\n",
    "    bgHist = np.histogram(runDat[(runDat[0] < bgSpectraSeconds) & (runDat[1] < ENERGY_THRESH)][1], bins=NUM_BINS)[0] / bgSpectraSeconds\n",
    "    sInfo = sourceTemplate[sourceTemplate[\"PhotonEnergy\"] < ENERGY_THRESH]\n",
    "    energyStep = ENERGY_THRESH / NUM_BINS\n",
    "    sHist = []\n",
    "    rHist = []\n",
    "    for i in range(NUM_BINS):\n",
    "        meanCountRate = np.mean(sInfo[(sInfo[\"PhotonEnergy\"] > i * energyStep) & (sInfo[\"PhotonEnergy\"] < (i + 1) * energyStep)][\"CountRate\"])\n",
    "        sHist.append(meanCountRate)\n",
    "        rHist.append(meanCountRate / (bgHist[i] + 1e-9))\n",
    "    rHistPerm = sorted(range(len(rHist)), key=lambda k: rHist[k], reverse=True)\n",
    "    snrArr = []\n",
    "    for k in range(1, NUM_BINS + 1):\n",
    "        Sk = np.sum([sHist[i] for i in rHistPerm[:k]])\n",
    "        Bk = np.sum([bgHist[i] for i in rHistPerm[:k]])\n",
    "        snrArr.append(Sk / (np.sqrt(Bk) + 1e-9))\n",
    "    optimalK = np.argmax(snrArr) + 1\n",
    "    return rHistPerm[:optimalK]"
   ]
  },
  {
   "cell_type": "code",
   "execution_count": 71,
   "metadata": {},
   "outputs": [
    {
     "name": "stdout",
     "output_type": "stream",
     "text": [
      "[3, 1, 4, 0]\n"
     ]
    }
   ],
   "source": [
    "signalBinIndices = getEnergyWindow(sInfo1, dat, 30)\n",
    "bgBinIndices = [i for i in range(NUM_BINS) if i not in signalBinIndices]\n",
    "print(signalBinIndices)"
   ]
  },
  {
   "cell_type": "code",
   "execution_count": 72,
   "metadata": {},
   "outputs": [],
   "source": [
    "def trainRegression(runDat, bgBinIdx, sigBinIdx, bgSpectraSeconds):\n",
    "    stepS = 0.5\n",
    "    numSteps = int(bgSpectraSeconds / stepS)\n",
    "    X = []\n",
    "    y = []\n",
    "    for i in range(numSteps):\n",
    "        bgHist = np.histogram(runDat[(runDat[0] > i * stepS) & (runDat[0] < (i + 1) * stepS) & (runDat[1] < ENERGY_THRESH)][1], bins=NUM_BINS)[0]\n",
    "        X.append([bgHist[i] for i in bgBinIdx])\n",
    "        y.append(np.sum([bgHist[i] for i in sigBinIdx]))\n",
    "        \n",
    "    #bgModel = linear_model.Ridge(alpha=.5)\n",
    "    bgModel = LinearRegression()\n",
    "    bgModel.fit(X, y)\n",
    "    return bgModel"
   ]
  },
  {
   "cell_type": "code",
   "execution_count": 73,
   "metadata": {},
   "outputs": [],
   "source": [
    "regressionModel = trainRegression(dat, bgBinIndices, signalBinIndices, 30)"
   ]
  },
  {
   "cell_type": "code",
   "execution_count": 74,
   "metadata": {},
   "outputs": [],
   "source": [
    "def predictRegression(model, runDat, bgBinIdx, sigBinIdx, bgSpectraSeconds):\n",
    "    stepS = 0.5\n",
    "    numSteps = int((runDat.values[-1][0] - bgSpectraSeconds) / stepS)\n",
    "    times = []\n",
    "    residual = []\n",
    "    for i in range(numSteps):\n",
    "        bgHist = np.histogram(runDat[(runDat[0] > i * stepS + bgSpectraSeconds) & (runDat[0] < (i + 1) * stepS + bgSpectraSeconds) & (runDat[1] < ENERGY_THRESH)][1], bins=NUM_BINS)[0]\n",
    "        predicted = model.predict(np.array([bgHist[i] for i in bgBinIdx]).reshape(1, -1))\n",
    "        truth = np.sum([bgHist[i] for i in sigBinIdx])\n",
    "        times.append(i * stepS + bgSpectraSeconds)\n",
    "        residual.append(abs(truth - predicted[0]))\n",
    "        \n",
    "    plt.plot(times, residual)"
   ]
  },
  {
   "cell_type": "code",
   "execution_count": 75,
   "metadata": {},
   "outputs": [
    {
     "data": {
      "image/png": "[encoded data removed]",
      "text/plain": [
       "<Figure size 432x288 with 1 Axes>"
      ]
     },
     "metadata": {
      "needs_background": "light"
     },
     "output_type": "display_data"
    }
   ],
   "source": [
    "predictRegression(regressionModel, dat, bgBinIndices, signalBinIndices, 30)"
   ]
  },
  {
   "cell_type": "code",
   "execution_count": 32,
   "metadata": {},
   "outputs": [
    {
     "data": {
      "text/plain": [
       "array([ 60.351492, 207.7     ])"
      ]
     },
     "execution_count": 32,
     "metadata": {},
     "output_type": "execute_result"
    }
   ],
   "source": []
  },
  {
   "cell_type": "code",
   "execution_count": 14,
   "metadata": {},
   "outputs": [
    {
     "name": "stdout",
     "output_type": "stream",
     "text": [
      "    SourceType  SourceID  Shielding  PhotonEnergy     CountRate\n",
      "3         60Co         4          0            19  1.466470e-01\n",
      "7         60Co         4          0            27  1.460660e-01\n",
      "16        60Co         4          0            45  1.496270e-01\n",
      "43        60Co         4          0            99  1.456060e-01\n",
      "52        60Co         4          0           117  1.452840e-01\n",
      "70        60Co         4          0           153  1.450740e-01\n",
      "107       60Co         4          0           227  1.471590e-01\n",
      "148       60Co         4          0           309  1.468730e-01\n",
      "179       60Co         4          0           371  1.421990e-01\n",
      "202       60Co         4          0           417  1.426440e-01\n",
      "204       60Co         4          0           421  1.426480e-01\n",
      "322       60Co         4          0           657  1.397990e-01\n",
      "456       60Co         4          0           925  1.868170e-01\n",
      "511       60Co         4          0          1035  1.168430e-01\n",
      "515       60Co         4          0          1043  1.172100e-01\n",
      "581       60Co         4          0          1175  8.888320e-01\n",
      "660       60Co         4          0          1333  7.135190e-01\n",
      "726       60Co         4          0          1465  5.649740e-04\n",
      "730       60Co         4          0          1473  3.067280e-04\n",
      "732       60Co         4          0          1477  3.067160e-04\n",
      "736       60Co         4          0          1485  2.461620e-04\n",
      "819       60Co         4          0          1651  8.167020e-07\n",
      "929       60Co         4          0          1871  7.468080e-07\n"
     ]
    },
    {
     "data": {
      "text/plain": [
       "[<matplotlib.lines.Line2D at 0x7f95b5598e48>]"
      ]
     },
     "execution_count": 14,
     "metadata": {},
     "output_type": "execute_result"
    },
    {
     "data": {
      "image/png": "[encoded data removed]",
      "text/plain": [
       "<Figure size 1152x576 with 1 Axes>"
      ]
     },
     "metadata": {
      "needs_background": "light"
     },
     "output_type": "display_data"
    }
   ],
   "source": [
    "#sourceInfo = sourceInfo[sourceInfo[\"PhotonEnergy\"] < 600]\n",
    "idx = (sourceInfo[\"SourceID\"] == 4) & (sourceInfo[\"Shielding\"] == 0) & (sourceInfo[\"PhotonEnergy\"] < 2000)\n",
    "sInfo1 = sourceInfo[idx]\n",
    "sInfo1 = sInfo1.reset_index(drop=True)\n",
    "peaks, _ = find_peaks(sInfo1[\"CountRate\"], prominence=(0))\n",
    "print(sInfo1.loc[peaks])\n",
    "#pWidths = peak_widths(sInfo1[\"CountRate\"], peaks)[0]\n",
    "#pProminences = peak_prominences(sInfo1[\"CountRate\"], peaks)[0]\n",
    "plt.figure(figsize=(16,8))\n",
    "plt.plot(sInfo1[\"PhotonEnergy\"], sInfo1[\"CountRate\"])\n",
    "plt.plot(sInfo1.loc[peaks][\"PhotonEnergy\"], sInfo1.loc[peaks][\"CountRate\"], 'x')\n",
    "#print(pWidths)\n",
    "#print(pProminences)"
   ]
  },
  {
   "cell_type": "code",
   "execution_count": 26,
   "metadata": {},
   "outputs": [
    {
     "data": {
      "text/html": [
       "<div>\n",
       "<style scoped>\n",
       "    .dataframe tbody tr th:only-of-type {\n",
       "        vertical-align: middle;\n",
       "    }\n",
       "\n",
       "    .dataframe tbody tr th {\n",
       "        vertical-align: top;\n",
       "    }\n",
       "\n",
       "    .dataframe thead th {\n",
       "        text-align: right;\n",
       "    }\n",
       "</style>\n",
       "<table border=\"1\" class=\"dataframe\">\n",
       "  <thead>\n",
       "    <tr style=\"text-align: right;\">\n",
       "      <th></th>\n",
       "      <th>SourceType</th>\n",
       "      <th>SourceID</th>\n",
       "      <th>Shielding</th>\n",
       "      <th>PhotonEnergy</th>\n",
       "      <th>CountRate</th>\n",
       "    </tr>\n",
       "  </thead>\n",
       "  <tbody>\n",
       "    <tr>\n",
       "      <th>2</th>\n",
       "      <td>WGPu</td>\n",
       "      <td>2</td>\n",
       "      <td>0</td>\n",
       "      <td>17</td>\n",
       "      <td>40308.1</td>\n",
       "    </tr>\n",
       "    <tr>\n",
       "      <th>3</th>\n",
       "      <td>WGPu</td>\n",
       "      <td>2</td>\n",
       "      <td>0</td>\n",
       "      <td>19</td>\n",
       "      <td>51996.4</td>\n",
       "    </tr>\n",
       "  </tbody>\n",
       "</table>\n",
       "</div>"
      ],
      "text/plain": [
       "  SourceType  SourceID  Shielding  PhotonEnergy  CountRate\n",
       "2       WGPu         2          0            17    40308.1\n",
       "3       WGPu         2          0            19    51996.4"
      ]
     },
     "execution_count": 26,
     "metadata": {},
     "output_type": "execute_result"
    }
   ],
   "source": [
    "sInfo1.loc[[2,3]]"
   ]
  },
  {
   "cell_type": "code",
   "execution_count": null,
   "metadata": {},
   "outputs": [],
   "source": []
  }
 ],
 "metadata": {
  "kernelspec": {
   "display_name": "Python 3",
   "language": "python",
   "name": "python3"
  },
  "language_info": {
   "codemirror_mode": {
    "name": "ipython",
    "version": 3
   },
   "file_extension": ".py",
   "mimetype": "text/x-python",
   "name": "python",
   "nbconvert_exporter": "python",
   "pygments_lexer": "ipython3",
   "version": "3.5.2"
  }
 },
 "nbformat": 4,
 "nbformat_minor": 2
}
