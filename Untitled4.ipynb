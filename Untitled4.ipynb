{
 "cells": [
  {
   "cell_type": "code",
   "execution_count": 3,
   "metadata": {},
   "outputs": [],
   "source": [
    "import pandas as pd\n",
    "import pyarrow.parquet as pq\n",
    "import os\n",
    "import matplotlib\n",
    "import numpy as np\n",
    "import pickle as pkl\n",
    "import matplotlib.pyplot as plt\n",
    "%matplotlib inline  "
   ]
  },
  {
   "cell_type": "code",
   "execution_count": 4,
   "metadata": {},
   "outputs": [],
   "source": [
    "submission = pd.read_csv(\"submission.csv\")\n",
    "gtruth = pd.read_csv(\"trainingAnswers.csv\")\n",
    "gtruth = gtruth.set_index(\"RunID\")\n",
    "#fd = open(\"nn_stat.pkl\", \"rb\")\n",
    "#nn_stat = pkl.load(fd)\n",
    "#fd.close()"
   ]
  },
  {
   "cell_type": "code",
   "execution_count": 16,
   "metadata": {},
   "outputs": [],
   "source": [
    "lst0 = []\n",
    "lst1 = []\n",
    "for elem in nn_stat:\n",
    "    if elem[0] == -1:\n",
    "        continue\n",
    "    runid = elem[0]\n",
    "    proba = elem[1]\n",
    "    source_id = gtruth.loc[runid][\"SourceID\"]\n",
    "    if source_id != 0:\n",
    "        lst1.append(proba)\n",
    "    else:\n",
    "        lst0.append(proba)"
   ]
  },
  {
   "cell_type": "code",
   "execution_count": 23,
   "metadata": {},
   "outputs": [
    {
     "data": {
      "image/png": "[encoded data removed]",
      "text/plain": [
       "<Figure size 432x288 with 1 Axes>"
      ]
     },
     "metadata": {
      "needs_background": "light"
     },
     "output_type": "display_data"
    }
   ],
   "source": [
    "plt.hist(lst0,bins=32);"
   ]
  },
  {
   "cell_type": "code",
   "execution_count": 22,
   "metadata": {},
   "outputs": [
    {
     "data": {
      "image/png": "[encoded data removed]",
      "text/plain": [
       "<Figure size 432x288 with 1 Axes>"
      ]
     },
     "metadata": {
      "needs_background": "light"
     },
     "output_type": "display_data"
    }
   ],
   "source": [
    "plt.hist(lst1,bins=32);"
   ]
  },
  {
   "cell_type": "code",
   "execution_count": 8,
   "metadata": {},
   "outputs": [],
   "source": [
    "fp = []\n",
    "for row in submission.values:\n",
    "    grow = gtruth.loc[int(row[0])]\n",
    "    if int(row[1]) != 0 and grow[\"SourceID\"] == 0:\n",
    "        fp.append(row[0])"
   ]
  },
  {
   "cell_type": "code",
   "execution_count": 12,
   "metadata": {},
   "outputs": [
    {
     "data": {
      "text/plain": [
       "[100020.0,\n",
       " 100032.0,\n",
       " 100058.0,\n",
       " 100107.0,\n",
       " 100249.0,\n",
       " 100273.0,\n",
       " 100350.0,\n",
       " 100365.0,\n",
       " 100380.0,\n",
       " 100419.0,\n",
       " 100486.0,\n",
       " 100518.0,\n",
       " 100527.0,\n",
       " 100536.0,\n",
       " 100541.0,\n",
       " 100630.0,\n",
       " 100633.0,\n",
       " 100663.0,\n",
       " 100700.0,\n",
       " 100750.0,\n",
       " 100797.0,\n",
       " 100924.0,\n",
       " 100933.0,\n",
       " 101123.0,\n",
       " 101211.0,\n",
       " 101461.0,\n",
       " 101588.0,\n",
       " 101613.0,\n",
       " 101637.0,\n",
       " 101703.0,\n",
       " 101767.0,\n",
       " 101930.0,\n",
       " 101931.0,\n",
       " 102105.0,\n",
       " 102136.0,\n",
       " 102258.0,\n",
       " 102303.0,\n",
       " 102513.0,\n",
       " 102573.0,\n",
       " 102592.0,\n",
       " 102884.0,\n",
       " 102998.0,\n",
       " 103101.0,\n",
       " 103142.0,\n",
       " 103156.0,\n",
       " 103159.0,\n",
       " 103181.0,\n",
       " 103265.0,\n",
       " 103440.0,\n",
       " 103585.0,\n",
       " 103671.0,\n",
       " 103685.0,\n",
       " 103856.0,\n",
       " 104338.0,\n",
       " 104368.0,\n",
       " 104569.0,\n",
       " 104581.0,\n",
       " 104602.0,\n",
       " 104656.0,\n",
       " 104687.0,\n",
       " 104896.0]"
      ]
     },
     "execution_count": 12,
     "metadata": {},
     "output_type": "execute_result"
    }
   ],
   "source": [
    "sorted(fp)"
   ]
  },
  {
   "cell_type": "code",
   "execution_count": null,
   "metadata": {},
   "outputs": [],
   "source": []
  }
 ],
 "metadata": {
  "kernelspec": {
   "display_name": "Python 3",
   "language": "python",
   "name": "python3"
  },
  "language_info": {
   "codemirror_mode": {
    "name": "ipython",
    "version": 3
   },
   "file_extension": ".py",
   "mimetype": "text/x-python",
   "name": "python",
   "nbconvert_exporter": "python",
   "pygments_lexer": "ipython3",
   "version": "3.5.2"
  }
 },
 "nbformat": 4,
 "nbformat_minor": 2
}
