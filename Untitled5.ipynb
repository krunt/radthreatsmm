{
 "cells": [
  {
   "cell_type": "code",
   "execution_count": 18,
   "metadata": {},
   "outputs": [],
   "source": [
    "import pandas as pd\n",
    "import pyarrow.parquet as pq\n",
    "import os\n",
    "import matplotlib\n",
    "import numpy as np\n",
    "import pickle as pkl\n",
    "import matplotlib.pyplot as plt\n",
    "from sklearn.metrics import confusion_matrix\n",
    "from sklearn.model_selection import train_test_split\n",
    "import hdbscan\n",
    "import seaborn as sns\n",
    "from tqdm import tqdm_notebook, tqdm\n",
    "from sklearn.decomposition import NMF\n",
    "import xgboost as xgb\n",
    "%matplotlib inline  "
   ]
  },
  {
   "cell_type": "code",
   "execution_count": 6,
   "metadata": {},
   "outputs": [],
   "source": [
    "submission = pd.read_csv(\"submission.csv\")\n",
    "gtruth = pd.read_csv(\"trainingAnswers.csv\")\n",
    "gtruth = gtruth.set_index(\"RunID\")"
   ]
  },
  {
   "cell_type": "code",
   "execution_count": 13,
   "metadata": {},
   "outputs": [],
   "source": [
    "fd = open(\"validation_nmf.pkl\", \"rb\")\n",
    "vdat = pkl.load(fd)\n",
    "fd.close()"
   ]
  },
  {
   "cell_type": "code",
   "execution_count": 26,
   "metadata": {},
   "outputs": [],
   "source": [
    "fd = open(\"train_nmf.pkl\", \"rb\")\n",
    "vdat = pkl.load(fd)\n",
    "fd.close()"
   ]
  },
  {
   "cell_type": "code",
   "execution_count": 7,
   "metadata": {},
   "outputs": [],
   "source": [
    "train_ids = gtruth.index\n",
    "train_ids_set, val_ids_set = train_test_split(train_ids, random_state=13, test_size=0.20, shuffle=True)"
   ]
  },
  {
   "cell_type": "code",
   "execution_count": 6,
   "metadata": {},
   "outputs": [],
   "source": [
    "vdat = np.array(vdat)"
   ]
  },
  {
   "cell_type": "code",
   "execution_count": 142,
   "metadata": {},
   "outputs": [],
   "source": [
    "#TWIN = 7\n",
    "EBINS=128\n",
    "MAX_ENERGY=2500\n",
    "TSCALE_LIST = [0.25,0.5,1.0,2.0,4]\n",
    "TWIN_PER_TSCALE = [1, 1, 3, 1, 1]\n",
    "TWIN = np.sum(TWIN_PER_TSCALE)"
   ]
  },
  {
   "cell_type": "code",
   "execution_count": 28,
   "metadata": {},
   "outputs": [],
   "source": [
    "vlist = []\n",
    "bglist = []\n",
    "vall = []\n",
    "vlist_source = []\n",
    "vlist_source_y = []\n",
    "vindices = []\n",
    "vindices_vlist = []\n",
    "for i in range(submission.values.shape[0]):\n",
    "    run_id = int(submission.values[i, 0])\n",
    "    source_time = int(submission.values[i, 2])\n",
    "    source_id = int(submission.values[i, 1])\n",
    "    vall.append(vdat[i*5 + 2][30:])\n",
    "    vindices.append(np.ones((vdat[i*5 + 2].shape[0]-30, 1))*i)\n",
    "    if source_id == 0:\n",
    "        bglist.append(vdat[i*5 + 2][30:])\n",
    "        continue\n",
    "    continue\n",
    "    if source_id in [1,5,6]:\n",
    "        vlist_source.append(vdat[i*5 + 2][int(source_time)]/np.max(vdat[i*5 + 2][int(source_time)]))\n",
    "        vlist_source_y.append(source_id)\n",
    "    vindices_vlist.append(np.ones((vdat[i*5 + 2].shape[0]-30, 1))*i)\n",
    "    vlist.append(vdat[i*5 + 2][30:])\n",
    "    \n",
    "#vlist = np.vstack(vlist)\n",
    "bglist = np.vstack(bglist)\n",
    "vall = np.vstack(vall)\n",
    "#vindices = np.vstack(vindices)\n",
    "#vlist_source = np.vstack(vlist_source)\n",
    "#vlist_source_y = np.vstack(vlist_source_y)\n",
    "#vindices_vlist = np.vstack(vindices_vlist)"
   ]
  },
  {
   "cell_type": "code",
   "execution_count": 115,
   "metadata": {},
   "outputs": [],
   "source": [
    "vlist_source_b = []\n",
    "vlist_source = []\n",
    "vlist_source_y = []\n",
    "for (i,runid) in enumerate(train_ids_set):\n",
    "    source_id = gtruth.loc[runid][\"SourceID\"]\n",
    "    source_time = int(gtruth.loc[runid][\"SourceTime\"])\n",
    "    #if source_id in [1,5,6]:\n",
    "    \n",
    "    if source_id == 0:\n",
    "        source_time = 35\n",
    "    \n",
    "    twinhalf = int(TWIN/2)\n",
    "    tmax = vdat[i*5+2].shape[0]\n",
    "    \n",
    "    if source_time > 30 + twinhalf and source_time < tmax - twinhalf:\n",
    "        for j in range(TWIN):\n",
    "            vlist_source.append(vdat[i*5 + 2][source_time + j - twinhalf])\n",
    "        vlist_source_y.append(source_id)\n",
    "        vlist_source_b.append(vdat[i*5 + 2][source_time])\n",
    "    \n",
    "    #if np.max(vdat[i*5 + 2][int(source_time)]) > 1e-5:\n",
    "     #   vlist_source.append(vdat[i*5 + 2][int(source_time)] / np.max(vdat[i*5 + 2][int(source_time)]))\n",
    "      #  vlist_source_y.append(source_id)"
   ]
  },
  {
   "cell_type": "code",
   "execution_count": 143,
   "metadata": {},
   "outputs": [
    {
     "data": {
      "application/vnd.jupyter.widget-view+json": {
       "model_id": "6ce7a373f5f74764827ef4c3ade66eb3",
       "version_major": 2,
       "version_minor": 0
      },
      "text/plain": [
       "HBox(children=(IntProgress(value=1, bar_style='info', max=1), HTML(value='')))"
      ]
     },
     "metadata": {},
     "output_type": "display_data"
    },
    {
     "name": "stderr",
     "output_type": "stream",
     "text": [
      "/usr/local/lib/python3.5/dist-packages/numpy/core/fromnumeric.py:56: FutureWarning: Series.nonzero() is deprecated and will be removed in a future version.Use Series.to_numpy().nonzero() instead\n",
      "  return getattr(obj, method)(*args, **kwds)\n"
     ]
    }
   ],
   "source": [
    "hist_list = []\n",
    "for (i,runid) in tqdm_notebook(enumerate(train_ids_set)):\n",
    "    source_id = int(gtruth.loc[runid][\"SourceID\"])\n",
    "    source_time = gtruth.loc[runid][\"SourceTime\"]\n",
    "    \n",
    "    if source_id == 0:\n",
    "        source_time = 35\n",
    "    \n",
    "    g_dat = pd.read_csv(os.path.join(\"training\", \"%d.csv\" % runid), header=None)\n",
    "    g_dat = pd.concat([g_dat, g_dat])\n",
    "    g_dat = g_dat.reset_index()\n",
    "    \n",
    "    d0=g_dat[0]*1e-6\n",
    "    d1=np.cumsum(d0)\n",
    "    d2=g_dat[1]\n",
    "    \n",
    "    ebins = np.linspace(0,MAX_ENERGY,EBINS+1)\n",
    "    tmax = d1.values[-1]\n",
    "    \n",
    "    for (k, tscale) in enumerate(TSCALE_LIST):\n",
    "        invtscale=1/tscale\n",
    "        for j in range(TWIN_PER_TSCALE[k]):\n",
    "            if TWIN_PER_TSCALE[k] == 0:\n",
    "                continue\n",
    "            twinhalf = TWIN_PER_TSCALE[k]/2\n",
    "            dind = np.argwhere((d1 > source_time + (twinhalf - j - 1) * invtscale) & (d1 < source_time + (1 + twinhalf - j - 1) * invtscale)).flatten()\n",
    "            d3 = d2[dind]\n",
    "            hist = np.histogram(d3, bins=ebins)[0]\n",
    "            hist_list.append(hist)"
   ]
  },
  {
   "cell_type": "code",
   "execution_count": 113,
   "metadata": {},
   "outputs": [
    {
     "data": {
      "text/plain": [
       "0"
      ]
     },
     "execution_count": 113,
     "metadata": {},
     "output_type": "execute_result"
    }
   ],
   "source": [
    "len(hist_list)"
   ]
  },
  {
   "cell_type": "code",
   "execution_count": 144,
   "metadata": {},
   "outputs": [
    {
     "data": {
      "application/vnd.jupyter.widget-view+json": {
       "model_id": "7cdbd200be7d4a68bf2a9a5b683e0a27",
       "version_major": 2,
       "version_minor": 0
      },
      "text/plain": [
       "HBox(children=(IntProgress(value=1, bar_style='info', max=1), HTML(value='')))"
      ]
     },
     "metadata": {},
     "output_type": "display_data"
    }
   ],
   "source": [
    "vlist_source_y = []\n",
    "for (i,runid) in tqdm_notebook(enumerate(train_ids_set)):\n",
    "    source_id = int(gtruth.loc[runid][\"SourceID\"])\n",
    "    vlist_source_y.append(source_id)"
   ]
  },
  {
   "cell_type": "code",
   "execution_count": 118,
   "metadata": {},
   "outputs": [
    {
     "data": {
      "text/plain": [
       "(array([3927,  626,    0,  634,    0,  636,  652,    0,  651,  634]),\n",
       " array([0. , 0.6, 1.2, 1.8, 2.4, 3. , 3.6, 4.2, 4.8, 5.4, 6. ]))"
      ]
     },
     "execution_count": 118,
     "metadata": {},
     "output_type": "execute_result"
    }
   ],
   "source": [
    "#plt.hist(vlist_source_y);\n",
    "np.histogram(vlist_source_y)"
   ]
  },
  {
   "cell_type": "code",
   "execution_count": 8,
   "metadata": {},
   "outputs": [
    {
     "data": {
      "text/plain": [
       "HDBSCAN(algorithm='best', allow_single_cluster=False, alpha=1.0,\n",
       "    approx_min_span_tree=True, cluster_selection_method='eom',\n",
       "    core_dist_n_jobs=4, gen_min_span_tree=False, leaf_size=40,\n",
       "    match_reference_implementation=False, memory=Memory(cachedir=None),\n",
       "    metric='euclidean', min_cluster_size=5, min_samples=None, p=None,\n",
       "    prediction_data=False)"
      ]
     },
     "execution_count": 8,
     "metadata": {},
     "output_type": "execute_result"
    }
   ],
   "source": [
    "clusterer = hdbscan.HDBSCAN()\n",
    "clusterer.fit(vlist[:4096,:])"
   ]
  },
  {
   "cell_type": "code",
   "execution_count": 20,
   "metadata": {},
   "outputs": [
    {
     "data": {
      "text/plain": [
       "2"
      ]
     },
     "execution_count": 20,
     "metadata": {},
     "output_type": "execute_result"
    }
   ],
   "source": [
    "clusterer.labels_.max()"
   ]
  },
  {
   "cell_type": "code",
   "execution_count": 24,
   "metadata": {},
   "outputs": [
    {
     "data": {
      "image/png": "[encoded data removed]",
      "text/plain": [
       "<Figure size 432x288 with 1 Axes>"
      ]
     },
     "metadata": {
      "needs_background": "light"
     },
     "output_type": "display_data"
    }
   ],
   "source": [
    "plt.hist(clusterer.probabilities_[clusterer.labels_ == 0],bins=128);"
   ]
  },
  {
   "cell_type": "code",
   "execution_count": 57,
   "metadata": {},
   "outputs": [],
   "source": [
    "ncomp_bg=8\n",
    "trun = 128\n",
    "train_bglist = bglist[:trun, :]\n",
    "model_bg = NMF(ncomp_bg, init='random', random_state=0)\n",
    "model_bg.fit(train_bglist)\n",
    "comps_bg = model_bg.components_"
   ]
  },
  {
   "cell_type": "code",
   "execution_count": 58,
   "metadata": {},
   "outputs": [],
   "source": [
    "_source_data =  pd.read_csv(\"SourceInfov3/SourceData.csv\")\n",
    "sdata = _source_data\n",
    "source_hist = np.zeros((10,EBINS))\n",
    "for shielding in range(2):\n",
    "    for source in range(5):\n",
    "        arr = []\n",
    "        for binidx in range(EBINS):\n",
    "            energyFrom = binidx / EBINS * MAX_ENERGY\n",
    "            energyTo = (binidx + 1) / EBINS * MAX_ENERGY\n",
    "            dat = sdata[(sdata[\"Shielding\"] == shielding) & (sdata[\"SourceID\"] == source + 1) & (sdata[\"PhotonEnergy\"] > energyFrom) & (sdata[\"PhotonEnergy\"] < energyTo)]\n",
    "            arr.append(dat[\"CountRate\"].mean())\n",
    "        dat1 = np.array(arr)\n",
    "        source_hist[shielding * 5 + source, :] = np.abs(dat1)\n",
    "        source_hist[shielding * 5 + source, :] /= np.max(source_hist[shielding * 5 + source, :])"
   ]
  },
  {
   "cell_type": "code",
   "execution_count": 119,
   "metadata": {},
   "outputs": [],
   "source": [
    "ncomp_bgs=10\n",
    "model_bgs = NMF(ncomp_bg+ncomp_bgs, init='random', random_state=0)\n",
    "model_bgs.fit(train_bglist)\n",
    "for i in range(ncomp_bg):\n",
    "    model_bgs.components_[i] = model_bg.components_[i]\n",
    "for i in range(ncomp_bgs):\n",
    "    model_bgs.components_[-ncomp_bgs + i] = source_hist[i]\n",
    "comps_bgs = model_bgs.components_\n",
    "model_bgs1 = NMF(ncomp_bg+ncomp_bgs, init='random', random_state=0)\n",
    "model_bgs1.fit(train_bglist)\n",
    "for i in range(ncomp_bg):\n",
    "    model_bgs1.components_[i] = model_bg.components_[i]\n",
    "for i in range(ncomp_bgs):\n",
    "    model_bgs1.components_[-ncomp_bgs + i] = source_hist[i]"
   ]
  },
  {
   "cell_type": "code",
   "execution_count": 145,
   "metadata": {},
   "outputs": [],
   "source": [
    "\n",
    "#vlist1 = model_bgs.transform(vlist)\n",
    "#vall1 = model_bgs.transform(vall)\n",
    "#vlist_source1 = model_bgs.transform(vlist_source)\n",
    "vlist_source = hist_list\n",
    "vlist_source_b1 = model_bg.transform(vlist_source) #vlist_source_b)\n",
    "vlist_source_s1 = model_bgs.transform(vlist_source) #vlist_source_b)\n",
    "\n",
    "fit_bg = np.dot(vlist_source_b1, model_bg.components_)\n",
    "diff_fit_bg = np.abs(fit_bg - vlist_source)\n",
    "\n",
    "fit_bgs = np.dot(vlist_source_s1, model_bgs.components_)\n",
    "diff_fit_bgs = np.abs(fit_bgs - vlist_source)\n",
    "\n",
    "BINS = 64\n",
    "div_fit_bg = np.linalg.norm(diff_fit_bg[:,:BINS],axis=1) / np.linalg.norm(diff_fit_bgs[:,:BINS],axis=1)\n",
    "\n",
    "vlist_source1 = model_bgs1.transform(vlist_source)\n",
    "\n",
    "#fit_bgs = np.dot(vlist1, model_bgs.components_)\n",
    "#diff_fit_bgs = np.abs(fit_bgs - vlist)"
   ]
  },
  {
   "cell_type": "code",
   "execution_count": 247,
   "metadata": {},
   "outputs": [
    {
     "data": {
      "text/plain": [
       "HDBSCAN(algorithm='best', allow_single_cluster=False, alpha=1.0,\n",
       "    approx_min_span_tree=True, cluster_selection_method='eom',\n",
       "    core_dist_n_jobs=4, gen_min_span_tree=False, leaf_size=40,\n",
       "    match_reference_implementation=False, memory=Memory(cachedir=None),\n",
       "    metric='euclidean', min_cluster_size=5, min_samples=None, p=None,\n",
       "    prediction_data=False)"
      ]
     },
     "execution_count": 247,
     "metadata": {},
     "output_type": "execute_result"
    }
   ],
   "source": [
    "clusterer = hdbscan.HDBSCAN()\n",
    "clusterer.fit(vlist_source1[:,ncomp_bg:]) #vall1[np.array(vindices == 4).flatten()])"
   ]
  },
  {
   "cell_type": "code",
   "execution_count": 248,
   "metadata": {},
   "outputs": [
    {
     "data": {
      "text/plain": [
       "14"
      ]
     },
     "execution_count": 248,
     "metadata": {},
     "output_type": "execute_result"
    }
   ],
   "source": [
    "clusterer.labels_.max()"
   ]
  },
  {
   "cell_type": "code",
   "execution_count": 240,
   "metadata": {},
   "outputs": [
    {
     "data": {
      "image/png": "[encoded data removed]",
      "text/plain": [
       "<Figure size 432x288 with 1 Axes>"
      ]
     },
     "metadata": {
      "needs_background": "light"
     },
     "output_type": "display_data"
    }
   ],
   "source": [
    "#plt.figure(figsize=(16,8))\n",
    "plt.hist(clusterer.labels_,bins=64);\n",
    "#clusterer.labels_.shape\n",
    "#clusterer.labels_[(clusterer.labels_!=-1)&(clusterer.labels_!=64)]"
   ]
  },
  {
   "cell_type": "code",
   "execution_count": 146,
   "metadata": {},
   "outputs": [],
   "source": [
    "#vlist_source1.reshape(-1, 13*5).shape\n",
    "div_fit_bg = div_fit_bg.reshape(-1, TWIN)\n",
    "vlist_source1 = vlist_source1.reshape(-1, (ncomp_bg+ncomp_bgs)*TWIN)\n",
    "vlist_source1 = np.hstack([vlist_source1, div_fit_bg])\n",
    "#vlist_source1 = div_fit_bg"
   ]
  },
  {
   "cell_type": "code",
   "execution_count": 62,
   "metadata": {},
   "outputs": [
    {
     "data": {
      "text/plain": [
       "(4482, 361)"
      ]
     },
     "execution_count": 62,
     "metadata": {},
     "output_type": "execute_result"
    }
   ],
   "source": [
    "vlist_source1.shape"
   ]
  },
  {
   "cell_type": "code",
   "execution_count": 241,
   "metadata": {},
   "outputs": [
    {
     "ename": "IndexError",
     "evalue": "boolean index did not match indexed array along dimension 0; dimension is 91020 but corresponding boolean dimension is 795",
     "output_type": "error",
     "traceback": [
      "\u001b[0;31m---------------------------------------------------------------------------\u001b[0m",
      "\u001b[0;31mIndexError\u001b[0m                                Traceback (most recent call last)",
      "\u001b[0;32m<ipython-input-241-4c4c2a546884>\u001b[0m in \u001b[0;36m<module>\u001b[0;34m\u001b[0m\n\u001b[0;32m----> 1\u001b[0;31m \u001b[0mindices\u001b[0m \u001b[0;34m=\u001b[0m \u001b[0mnp\u001b[0m\u001b[0;34m.\u001b[0m\u001b[0munique\u001b[0m\u001b[0;34m(\u001b[0m\u001b[0mnp\u001b[0m\u001b[0;34m.\u001b[0m\u001b[0marray\u001b[0m\u001b[0;34m(\u001b[0m\u001b[0mvindices_vlist\u001b[0m\u001b[0;34m[\u001b[0m\u001b[0;34m(\u001b[0m\u001b[0mclusterer\u001b[0m\u001b[0;34m.\u001b[0m\u001b[0mlabels_\u001b[0m\u001b[0;34m!=\u001b[0m\u001b[0;34m-\u001b[0m\u001b[0;36m1\u001b[0m\u001b[0;34m)\u001b[0m\u001b[0;34m&\u001b[0m\u001b[0;34m(\u001b[0m\u001b[0mclusterer\u001b[0m\u001b[0;34m.\u001b[0m\u001b[0mlabels_\u001b[0m\u001b[0;34m!=\u001b[0m\u001b[0;36m64\u001b[0m\u001b[0;34m)\u001b[0m\u001b[0;34m]\u001b[0m\u001b[0;34m+\u001b[0m\u001b[0;36m2\u001b[0m\u001b[0;34m)\u001b[0m\u001b[0;34m.\u001b[0m\u001b[0mflatten\u001b[0m\u001b[0;34m(\u001b[0m\u001b[0;34m)\u001b[0m\u001b[0;34m)\u001b[0m\u001b[0;34m\u001b[0m\u001b[0m\n\u001b[0m",
      "\u001b[0;31mIndexError\u001b[0m: boolean index did not match indexed array along dimension 0; dimension is 91020 but corresponding boolean dimension is 795"
     ]
    }
   ],
   "source": [
    "indices = np.unique(np.array(vindices_vlist[(clusterer.labels_!=-1)&(clusterer.labels_!=64)]+2).flatten())"
   ]
  },
  {
   "cell_type": "code",
   "execution_count": 179,
   "metadata": {},
   "outputs": [],
   "source": [
    "submission.iloc[indices[:]-2][\"SourceID\"];"
   ]
  },
  {
   "cell_type": "code",
   "execution_count": 204,
   "metadata": {},
   "outputs": [
    {
     "data": {
      "text/plain": [
       "(44, 18)"
      ]
     },
     "execution_count": 204,
     "metadata": {},
     "output_type": "execute_result"
    }
   ],
   "source": [
    "vall1[np.array(vindices == 4).flatten()].shape"
   ]
  },
  {
   "cell_type": "code",
   "execution_count": 66,
   "metadata": {},
   "outputs": [
    {
     "data": {
      "text/plain": [
       "array([       nan,        nan,        nan, ..., 0.        , 0.        ,\n",
       "       0.00285714])"
      ]
     },
     "execution_count": 66,
     "metadata": {},
     "output_type": "execute_result"
    }
   ],
   "source": [
    "np.array(vlist_source).flatten()[221568:]"
   ]
  },
  {
   "cell_type": "code",
   "execution_count": 57,
   "metadata": {},
   "outputs": [
    {
     "data": {
      "text/plain": [
       "221568"
      ]
     },
     "execution_count": 57,
     "metadata": {},
     "output_type": "execute_result"
    }
   ],
   "source": [
    "np.argmax(np.logical_not(np.isfinite(vlist_source)))"
   ]
  },
  {
   "cell_type": "code",
   "execution_count": 136,
   "metadata": {},
   "outputs": [
    {
     "name": "stdout",
     "output_type": "stream",
     "text": [
      "(7760, 247) 7760\n"
     ]
    }
   ],
   "source": [
    "print(vlist_source1.shape, len(vlist_source_y))\n",
    "#plt.hist(y_test)"
   ]
  },
  {
   "cell_type": "code",
   "execution_count": 168,
   "metadata": {},
   "outputs": [
    {
     "data": {
      "text/plain": [
       "XGBClassifier(base_score=0.5, booster='gbtree', colsample_bylevel=1,\n",
       "       colsample_bytree=1, gamma=0, learning_rate=0.1, max_delta_step=0,\n",
       "       max_depth=6, min_child_weight=1, missing=None, n_estimators=300,\n",
       "       n_jobs=1, nthread=None, objective='multi:softprob', random_state=0,\n",
       "       reg_alpha=0, reg_lambda=1, scale_pos_weight=1, seed=None,\n",
       "       silent=True, subsample=1)"
      ]
     },
     "execution_count": 168,
     "metadata": {},
     "output_type": "execute_result"
    }
   ],
   "source": [
    "classifier = xgb.XGBClassifier(max_depth=6, n_estimators=300)\n",
    "X_train, X_test, y_train, y_test = train_test_split(vlist_source1, vlist_source_y, test_size=0.2, random_state=13)\n",
    "classifier.fit(X_train, y_train)"
   ]
  },
  {
   "cell_type": "code",
   "execution_count": 174,
   "metadata": {},
   "outputs": [
    {
     "name": "stderr",
     "output_type": "stream",
     "text": [
      "/home/alexey/.local/lib/python3.5/site-packages/sklearn/preprocessing/label.py:151: DeprecationWarning: The truth value of an empty array is ambiguous. Returning False, but in future this will result in an error. Use `array.size > 0` to check that an array is not empty.\n",
      "  if diff:\n"
     ]
    }
   ],
   "source": [
    "conf_mat = confusion_matrix(classifier.predict(X_test), y_test).ravel()"
   ]
  },
  {
   "cell_type": "code",
   "execution_count": 175,
   "metadata": {},
   "outputs": [
    {
     "data": {
      "text/plain": [
       "0.9155927835051546"
      ]
     },
     "execution_count": 175,
     "metadata": {},
     "output_type": "execute_result"
    }
   ],
   "source": [
    "np.sum([conf_mat[7*i+i] for i in range(7)]) / np.sum(conf_mat)"
   ]
  },
  {
   "cell_type": "code",
   "execution_count": 171,
   "metadata": {},
   "outputs": [
    {
     "data": {
      "text/plain": [
       "array([[775,  21,  13,  20,   7,  19,   9],\n",
       "       [  5, 100,   0,   0,   0,   0,   3],\n",
       "       [  0,   0, 111,   0,   0,   0,   1],\n",
       "       [  0,   0,   0, 111,   0,   0,   0],\n",
       "       [  0,   0,   0,   0, 134,   0,   0],\n",
       "       [  0,   1,   0,   0,   0, 105,  16],\n",
       "       [  1,   2,   0,   0,   0,  13,  85]])"
      ]
     },
     "execution_count": 171,
     "metadata": {},
     "output_type": "execute_result"
    }
   ],
   "source": [
    "conf_mat.reshape(7,7)"
   ]
  },
  {
   "cell_type": "code",
   "execution_count": 339,
   "metadata": {},
   "outputs": [
    {
     "data": {
      "text/plain": [
       "(7470, 115)"
      ]
     },
     "execution_count": 339,
     "metadata": {},
     "output_type": "execute_result"
    }
   ],
   "source": [
    "vlist_source1.shape"
   ]
  },
  {
   "cell_type": "code",
   "execution_count": 147,
   "metadata": {},
   "outputs": [
    {
     "data": {
      "text/plain": [
       "(70,)"
      ]
     },
     "execution_count": 147,
     "metadata": {},
     "output_type": "execute_result"
    }
   ],
   "source": [
    "vlist_source1[0].shape"
   ]
  },
  {
   "cell_type": "code",
   "execution_count": 172,
   "metadata": {},
   "outputs": [
    {
     "data": {
      "text/plain": [
       "0.10300925925925926"
      ]
     },
     "execution_count": 172,
     "metadata": {},
     "output_type": "execute_result"
    }
   ],
   "source": [
    "np.sum([conf_mat[i] for i in range(1,7)]) / np.sum(conf_mat[0:7])"
   ]
  },
  {
   "cell_type": "code",
   "execution_count": 290,
   "metadata": {},
   "outputs": [
    {
     "name": "stderr",
     "output_type": "stream",
     "text": [
      "/home/alexey/.local/lib/python3.5/site-packages/sklearn/preprocessing/label.py:151: DeprecationWarning: The truth value of an empty array is ambiguous. Returning False, but in future this will result in an error. Use `array.size > 0` to check that an array is not empty.\n",
      "  if diff:\n"
     ]
    }
   ],
   "source": [
    "y_pred = classifier.predict(X_test)"
   ]
  },
  {
   "cell_type": "code",
   "execution_count": 291,
   "metadata": {},
   "outputs": [
    {
     "data": {
      "text/plain": [
       "(array([  17,   18,   19,   30,   43,   49,   68,   91,  110,  121,  128,\n",
       "         129,  135,  136,  140,  142,  144,  169,  173,  177,  179,  188,\n",
       "         189,  191,  207,  217,  221,  245,  249,  256,  264,  268,  270,\n",
       "         293,  297,  301,  310,  313,  319,  330,  333,  335,  352,  358,\n",
       "         368,  370,  385,  413,  417,  420,  434,  437,  457,  459,  466,\n",
       "         470,  476,  477,  494,  503,  505,  510,  515,  519,  521,  532,\n",
       "         539,  546,  584,  585,  591,  594,  599,  602,  606,  607,  608,\n",
       "         637,  638,  642,  644,  651,  657,  661,  665,  674,  685,  692,\n",
       "         697,  703,  712,  719,  735,  736,  737,  738,  752,  756,  757,\n",
       "         761,  764,  765,  766,  769,  776,  786,  799,  805,  813,  819,\n",
       "         851,  853,  858,  866,  878,  882,  883,  897,  908,  925,  926,\n",
       "         927,  928,  938,  962,  965,  970,  984,  989,  991,  994, 1022,\n",
       "        1038, 1054, 1069, 1085, 1087, 1089, 1093, 1095, 1120, 1122, 1172,\n",
       "        1196, 1220, 1230, 1235, 1236, 1261, 1273, 1287, 1291, 1292, 1295,\n",
       "        1296, 1301, 1302, 1303, 1332, 1334, 1339, 1345, 1350, 1357, 1372,\n",
       "        1373, 1377, 1388, 1390, 1392, 1399, 1401, 1403, 1419, 1435, 1438,\n",
       "        1451, 1455, 1466, 1488, 1489, 1491]),)"
      ]
     },
     "execution_count": 291,
     "metadata": {},
     "output_type": "execute_result"
    }
   ],
   "source": [
    "np.where(y_pred != y_test)"
   ]
  },
  {
   "cell_type": "code",
   "execution_count": 292,
   "metadata": {},
   "outputs": [
    {
     "data": {
      "text/plain": [
       "(0.0, 5.0)"
      ]
     },
     "execution_count": 292,
     "metadata": {},
     "output_type": "execute_result"
    }
   ],
   "source": [
    "(y_pred[17], y_test[17])"
   ]
  },
  {
   "cell_type": "code",
   "execution_count": 279,
   "metadata": {},
   "outputs": [
    {
     "data": {
      "text/plain": [
       "array([ 1.08038415,  0.36076827,  0.5581002 ,  1.03234998,  0.40227582,\n",
       "        0.42477372,  0.44254151,  0.        ,  7.48206778, 13.92600086,\n",
       "        0.        ,  0.01846763,  0.69979744,  0.        ,  0.        ,\n",
       "        2.16616802,  0.73086624,  1.39749671,  0.39108224,  0.38245796,\n",
       "        0.        , 17.05332412,  3.57587964,  4.68205385,  0.21219048,\n",
       "        9.24605377,  1.97286213,  2.08622488,  0.23819341,  1.31789785,\n",
       "        0.93786977,  0.82971333,  0.09025412,  0.84814072,  0.        ,\n",
       "       13.64145674,  0.        ,  0.24921459,  0.        ,  1.81508769,\n",
       "        2.63377404,  0.75077273,  1.05961429,  2.35624986,  0.63265678,\n",
       "        0.28243003,  0.66075043,  0.        ,  0.        ,  0.        ,\n",
       "        0.        ,  0.        ,  2.05012621,  2.99804636,  0.        ,\n",
       "        1.06238711,  2.62645147,  0.49750964,  0.09180615,  2.26189719,\n",
       "        6.82558737,  0.        ,  0.        ,  0.        ,  0.        ,\n",
       "        1.12051556,  1.30014027,  1.00164665,  0.99999977,  1.00472215])"
      ]
     },
     "execution_count": 279,
     "metadata": {},
     "output_type": "execute_result"
    }
   ],
   "source": [
    "X_test[17,:]"
   ]
  },
  {
   "cell_type": "code",
   "execution_count": 81,
   "metadata": {},
   "outputs": [],
   "source": [
    "def dump_obj(obj, fpath):\n",
    "    fd = open(fpath,\"wb\")\n",
    "    pkl.dump(obj, fd)\n",
    "    fd.close()"
   ]
  },
  {
   "cell_type": "code",
   "execution_count": 173,
   "metadata": {},
   "outputs": [],
   "source": [
    "dump_obj(classifier, \"multiclass_tree.pkl\")\n",
    "dump_obj(model_bg, \"model_bg.pkl\")\n",
    "dump_obj(model_bgs, \"model_bgs.pkl\")\n",
    "dump_obj(model_bgs1, \"model_bgs1.pkl\")"
   ]
  },
  {
   "cell_type": "code",
   "execution_count": null,
   "metadata": {},
   "outputs": [],
   "source": []
  }
 ],
 "metadata": {
  "kernelspec": {
   "display_name": "Python 3",
   "language": "python",
   "name": "python3"
  },
  "language_info": {
   "codemirror_mode": {
    "name": "ipython",
    "version": 3
   },
   "file_extension": ".py",
   "mimetype": "text/x-python",
   "name": "python",
   "nbconvert_exporter": "python",
   "pygments_lexer": "ipython3",
   "version": "3.5.2"
  }
 },
 "nbformat": 4,
 "nbformat_minor": 2
}
