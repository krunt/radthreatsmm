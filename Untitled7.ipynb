{
 "cells": [
  {
   "cell_type": "code",
   "execution_count": 1,
   "metadata": {},
   "outputs": [],
   "source": [
    "import pandas as pd\n",
    "import pyarrow.parquet as pq\n",
    "import os\n",
    "import matplotlib\n",
    "import numpy as np\n",
    "import pickle as pkl\n",
    "import matplotlib.pyplot as plt\n",
    "import hdbscan\n",
    "import seaborn as sns\n",
    "from sklearn.decomposition import NMF\n",
    "%matplotlib inline  "
   ]
  },
  {
   "cell_type": "code",
   "execution_count": 2,
   "metadata": {},
   "outputs": [],
   "source": [
    "fd = open(\"export.pkl\",\"rb\")\n",
    "export_data = pkl.load(fd)\n",
    "fd.close()"
   ]
  },
  {
   "cell_type": "code",
   "execution_count": 16,
   "metadata": {},
   "outputs": [],
   "source": [
    "export_dump = pd.read_csv(\"export_dump.csv\")"
   ]
  },
  {
   "cell_type": "code",
   "execution_count": 31,
   "metadata": {},
   "outputs": [
    {
     "data": {
      "image/png": "[encoded data removed]",
      "text/plain": [
       "<Figure size 432x288 with 1 Axes>"
      ]
     },
     "metadata": {
      "needs_background": "light"
     },
     "output_type": "display_data"
    }
   ],
   "source": [
    "plt.hist(export_dump[(export_dump[\"tscale\"] == 0.25)&(export_dump[\"snr\"] < 2.5)][\"snr\"],bins=128);\n",
    "#plt.hist(export_dump[(export_dump[\"tscale\"] == 0.5)][\"snr\"],bins=128);\n",
    "#plt.hist(export_dump[(export_dump[\"tscale\"] == 2.0)][\"snr\"],bins=128);\n",
    "plt.hist(export_dump[(export_dump[\"tscale\"] == 4.0)&(export_dump[\"snr\"] < 2.5)][\"snr\"],bins=128);"
   ]
  },
  {
   "cell_type": "code",
   "execution_count": 37,
   "metadata": {},
   "outputs": [
    {
     "data": {
      "text/plain": [
       "count    46.000000\n",
       "mean      1.977252\n",
       "std       0.295614\n",
       "min       1.526238\n",
       "25%       1.791552\n",
       "50%       1.887387\n",
       "75%       2.176638\n",
       "max       2.546809\n",
       "Name: snr, dtype: float64"
      ]
     },
     "execution_count": 37,
     "metadata": {},
     "output_type": "execute_result"
    }
   ],
   "source": [
    "export_dump[(export_dump[\"tscale\"] == 4.0)&(export_dump[\"snr\"] > 1.5)][\"snr\"].describe()"
   ]
  },
  {
   "cell_type": "code",
   "execution_count": 36,
   "metadata": {},
   "outputs": [
    {
     "data": {
      "text/plain": [
       "count    96.000000\n",
       "mean      2.690405\n",
       "std       1.025087\n",
       "min       1.515851\n",
       "25%       1.742030\n",
       "50%       2.482052\n",
       "75%       3.324018\n",
       "max       5.495793\n",
       "Name: snr, dtype: float64"
      ]
     },
     "execution_count": 36,
     "metadata": {},
     "output_type": "execute_result"
    }
   ],
   "source": [
    "export_dump[(export_dump[\"tscale\"] == 0.25)&(export_dump[\"snr\"] > 1.5)][\"snr\"].describe()"
   ]
  },
  {
   "cell_type": "code",
   "execution_count": null,
   "metadata": {},
   "outputs": [],
   "source": []
  }
 ],
 "metadata": {
  "kernelspec": {
   "display_name": "Python 3",
   "language": "python",
   "name": "python3"
  },
  "language_info": {
   "codemirror_mode": {
    "name": "ipython",
    "version": 3
   },
   "file_extension": ".py",
   "mimetype": "text/x-python",
   "name": "python",
   "nbconvert_exporter": "python",
   "pygments_lexer": "ipython3",
   "version": "3.5.2"
  }
 },
 "nbformat": 4,
 "nbformat_minor": 2
}
