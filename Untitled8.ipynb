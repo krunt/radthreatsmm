{
 "cells": [
  {
   "cell_type": "code",
   "execution_count": 70,
   "metadata": {},
   "outputs": [],
   "source": [
    "import pandas as pd\n",
    "import pyarrow.parquet as pq\n",
    "import os\n",
    "import matplotlib\n",
    "import numpy as np\n",
    "import pickle as pkl\n",
    "import matplotlib.pyplot as plt\n",
    "import math\n",
    "%matplotlib inline "
   ]
  },
  {
   "cell_type": "code",
   "execution_count": 154,
   "metadata": {},
   "outputs": [],
   "source": [
    "submission_orig = pd.read_csv(\"submission.csv\").set_index(\"RunID\")\n",
    "submission_orig2 = pd.read_csv(\"submission2.csv\").set_index(\"RunID\")\n",
    "submission4 = pd.read_csv(\"submission4.csv\").set_index(\"RunID\")\n",
    "submission = pd.read_csv(\"submission3.csv\")\n",
    "gtruth = pd.read_csv(\"trainingAnswers.csv\")\n",
    "gtruth = gtruth.set_index(\"RunID\")\n",
    "export_data = pd.read_csv(\"export.csv\")\n",
    "export_data = export_data.set_index(\"runid\");"
   ]
  },
  {
   "cell_type": "code",
   "execution_count": 145,
   "metadata": {},
   "outputs": [],
   "source": [
    "fp = []; fn = []; tp = []; tn = []; \n",
    "misdetect = dict();\n",
    "for row in submission.values:\n",
    "    grow = gtruth.loc[int(row[0])]\n",
    "    if int(row[1]) != 0 and grow[\"SourceID\"] == 0:\n",
    "        fp.append(row[0])\n",
    "    elif int(row[1]) == 0 and grow[\"SourceID\"] != 0:\n",
    "        fn.append(row[0])\n",
    "    elif int(row[1]) == 0 and grow[\"SourceID\"] == 0:\n",
    "        tn.append(row[0])\n",
    "    elif int(row[1]) != 0 and grow[\"SourceID\"] != 0:\n",
    "        key = \"%d-%d\" % (int(row[1]), grow[\"SourceID\"])\n",
    "        if key not in misdetect:\n",
    "            misdetect[key] = 0\n",
    "        misdetect[key] += 1\n",
    "        tp.append(row[0])"
   ]
  },
  {
   "cell_type": "code",
   "execution_count": 27,
   "metadata": {},
   "outputs": [
    {
     "data": {
      "text/plain": [
       "[18, 172, 795, 955]"
      ]
     },
     "execution_count": 27,
     "metadata": {},
     "output_type": "execute_result"
    }
   ],
   "source": [
    "[len(fp), len(fn), len(tp), len(tn)]"
   ]
  },
  {
   "cell_type": "code",
   "execution_count": 146,
   "metadata": {},
   "outputs": [
    {
     "data": {
      "text/plain": [
       "[9, 147, 820, 964]"
      ]
     },
     "execution_count": 146,
     "metadata": {},
     "output_type": "execute_result"
    }
   ],
   "source": [
    "[len(fp), len(fn), len(tp), len(tn)]"
   ]
  },
  {
   "cell_type": "code",
   "execution_count": 6,
   "metadata": {},
   "outputs": [
    {
     "data": {
      "image/png": "[encoded data removed]",
      "text/plain": [
       "<Figure size 432x288 with 1 Axes>"
      ]
     },
     "metadata": {
      "needs_background": "light"
     },
     "output_type": "display_data"
    }
   ],
   "source": [
    "plt.hist([export_data.loc[id][\"eproba\"].values[0] for id in tn], bins=32);\n",
    "plt.hist([export_data.loc[id][\"eproba\"].values[0] for id in fn], bins=32);"
   ]
  },
  {
   "cell_type": "code",
   "execution_count": 7,
   "metadata": {},
   "outputs": [
    {
     "data": {
      "image/png": "[encoded data removed]",
      "text/plain": [
       "<Figure size 432x288 with 1 Axes>"
      ]
     },
     "metadata": {
      "needs_background": "light"
     },
     "output_type": "display_data"
    }
   ],
   "source": [
    "plt.hist([np.mean(export_data.loc[id][\"sresbgs\"].values) for id in fn], bins=32);\n",
    "plt.hist([np.mean(export_data.loc[id][\"sresbgs\"].values) for id in fp], bins=32);"
   ]
  },
  {
   "cell_type": "code",
   "execution_count": 89,
   "metadata": {},
   "outputs": [
    {
     "data": {
      "text/plain": [
       "{'1-1': 123,\n",
       " '1-6': 6,\n",
       " '2-2': 146,\n",
       " '3-2': 1,\n",
       " '3-3': 144,\n",
       " '4-4': 128,\n",
       " '5-1': 1,\n",
       " '5-5': 126,\n",
       " '5-6': 35,\n",
       " '6-1': 4,\n",
       " '6-5': 5,\n",
       " '6-6': 109}"
      ]
     },
     "execution_count": 89,
     "metadata": {},
     "output_type": "execute_result"
    }
   ],
   "source": [
    "misdetect"
   ]
  },
  {
   "cell_type": "code",
   "execution_count": 14,
   "metadata": {},
   "outputs": [
    {
     "data": {
      "text/plain": [
       "0.36428571428571427"
      ]
     },
     "execution_count": 14,
     "metadata": {},
     "output_type": "execute_result"
    }
   ],
   "source": [
    "(misdetect['1-6']+misdetect['6-1']+misdetect['5-6']+misdetect['6-5'])/(misdetect['6-6']+misdetect['5-5']+misdetect['1-1'])"
   ]
  },
  {
   "cell_type": "code",
   "execution_count": 18,
   "metadata": {},
   "outputs": [
    {
     "data": {
      "text/plain": [
       "[18, 172, 795, 955]"
      ]
     },
     "execution_count": 18,
     "metadata": {},
     "output_type": "execute_result"
    }
   ],
   "source": [
    "[18, 172, 795, 955]"
   ]
  },
  {
   "cell_type": "code",
   "execution_count": 78,
   "metadata": {},
   "outputs": [
    {
     "data": {
      "text/plain": [
       "0.17086330935251798"
      ]
     },
     "execution_count": 78,
     "metadata": {},
     "output_type": "execute_result"
    }
   ],
   "source": [
    "(18+172)/np.sum([len(fp), len(fn), len(tn)])"
   ]
  },
  {
   "cell_type": "code",
   "execution_count": 147,
   "metadata": {},
   "outputs": [
    {
     "data": {
      "text/plain": [
       "0.1392857142857143"
      ]
     },
     "execution_count": 147,
     "metadata": {},
     "output_type": "execute_result"
    }
   ],
   "source": [
    "(len(fp) + len(fn))/np.sum([len(fp), len(fn), len(tn)])"
   ]
  },
  {
   "cell_type": "code",
   "execution_count": 155,
   "metadata": {},
   "outputs": [
    {
     "name": "stdout",
     "output_type": "stream",
     "text": [
      "  Public part:\n",
      "    TP =   744 | FP =     9\n",
      "    FL =    76 |-----------\n",
      "    FN =   147 | TN =   964\n",
      "\n",
      "    Correct type:  675 / 744 = 90.73 %\n",
      "    Average distance bonus: 80.16 %\n",
      "\n"
     ]
    },
    {
     "data": {
      "text/plain": [
       "44.505751"
      ]
     },
     "execution_count": 155,
     "metadata": {},
     "output_type": "execute_result"
    }
   ],
   "source": [
    "submission1 = submission.set_index(\"RunID\")\n",
    "get_score(submission1, list(submission[\"RunID\"].values))"
   ]
  },
  {
   "cell_type": "code",
   "execution_count": 149,
   "metadata": {},
   "outputs": [],
   "source": [
    "MAX_SCORE = 100\n",
    "MIN_SCORE = 0\n",
    "S_FN = -2\n",
    "S_FP = -2\n",
    "S_TN = 6\n",
    "S_distance = 1\n",
    "S_type = 1\n",
    "\n",
    "NUMBER_OF_FIELDS = 6\n",
    "NUMBER_OF_ANS_FIELDS = 3\n",
    "RUN_ID = 0\n",
    "SRC_ID = 1\n",
    "SRC_TIME = 2\n",
    "PUBLIC = 3\n",
    "VELOCITY = 4\n",
    "STANDOFF = 5\n",
    "\n",
    "def _is_integer(text):\n",
    "    try:\n",
    "        int(text)\n",
    "        return True\n",
    "    except ValueError:\n",
    "        return False\n",
    "    \n",
    "def dump_obj(obj, fpath):\n",
    "    fd = open(fpath,\"wb\")\n",
    "    pkl.dump(obj, fd)\n",
    "    fd.close()\n",
    "\n",
    "def get_score(pred_y, ids, verbose=True):\n",
    "    public_with = public_without = private_with = private_without = 0\n",
    "\n",
    "    truth_lines = [];\n",
    "    try:\n",
    "        file = open(\"answerKey.csv\", \"r\")\n",
    "        truth_lines = file.readlines()\n",
    "        file.close() \n",
    "    except IOError:\n",
    "        print(\"Can't open truth file '\" + self._gtruth_key_path + \"'.\") \n",
    "        return -1\n",
    "\n",
    "    truth = {}\n",
    "    for line in truth_lines:\n",
    "        parts = line.strip().split(',')\n",
    "        if (len(parts) == NUMBER_OF_FIELDS or len(parts) == NUMBER_OF_FIELDS - 1) and _is_integer(parts[RUN_ID]):\n",
    "            if len(parts) == NUMBER_OF_FIELDS - 1:\n",
    "                parts.append(\"1\")\n",
    "            run_id = int(parts[RUN_ID])\n",
    "            if int(parts[PUBLIC]) == 2:\n",
    "                parts[PUBLIC] = \"1\"\n",
    "            if int(parts[PUBLIC]) == 3:\n",
    "                parts[PUBLIC] = \"0\"\n",
    "            truth[run_id] = {SRC_ID : int(parts[SRC_ID]), SRC_TIME : float(parts[SRC_TIME]), PUBLIC : int(parts[PUBLIC]), VELOCITY : float(parts[VELOCITY]), STANDOFF : float(parts[STANDOFF]), \"found\" : False}\n",
    "            if truth[run_id][PUBLIC] == 1:\n",
    "                if truth[run_id][SRC_ID] == 0:\n",
    "                    public_without += 1\n",
    "                else:\n",
    "                    public_with += 1\n",
    "            else:\n",
    "                if truth[run_id][SRC_ID] == 0:\n",
    "                    private_without += 1\n",
    "                else:\n",
    "                    private_with += 1\n",
    "    \n",
    "    p_public = (MAX_SCORE - MIN_SCORE) / (public_with * (S_distance + S_type) + public_without * S_TN - public_with * min(S_FP, S_FN) - public_without * S_FP) \n",
    "    public_score = MAX_SCORE - (public_with * (S_distance + S_type) * p_public + public_without * S_TN * p_public)\n",
    "    if private_with + private_without > 0:\n",
    "        p_private = (MAX_SCORE - MIN_SCORE) / (private_with * (S_distance + S_type) + private_without * S_TN - private_with * min(S_FP, S_FN) - private_without * S_FP) \n",
    "        private_score = MAX_SCORE - (private_with * (S_distance + S_type) * p_private + private_without * S_TN * p_private)\n",
    "    else:\n",
    "        private_score = 0\n",
    "\n",
    "    TP = [0, 0]\n",
    "    TN = [0, 0]\n",
    "    FP = [0, 0]\n",
    "    FN = [0, 0]\n",
    "    FL = [0, 0]\n",
    "    TPtype = [0, 0]\n",
    "    TPdist = [0, 0]\n",
    "\n",
    "    fllist = []\n",
    "    for (i, run_id) in enumerate(ids):\n",
    "        solution = [run_id, int(pred_y.loc[run_id][\"SourceID\"]), pred_y.loc[run_id][\"SourceTime\"]]\n",
    "        try:\n",
    "            score = 0\n",
    "            if truth[run_id][PUBLIC] == 1:\n",
    "                p = p_public\n",
    "                part = 0\n",
    "            else:\n",
    "                p = p_private\n",
    "                part = 1\n",
    "\n",
    "            # If there is a source in this trial:\n",
    "            if truth[run_id][SRC_ID] != 0:\n",
    "\n",
    "                v = float(truth[run_id][VELOCITY])\n",
    "                d0 = float(truth[run_id][STANDOFF])\n",
    "                distance_in_meters = abs(float(solution[SRC_TIME]) - float(truth[run_id][SRC_TIME])) * v\n",
    "\n",
    "                # False negative:\n",
    "                if (int(solution[SRC_ID]) == 0):\n",
    "                    score += S_FN * p\n",
    "                    FN[part] += 1\n",
    "                    #print(\"FN,%d\" % run_id)\n",
    "                else:\n",
    "\n",
    "                    # Something is detected really close?\n",
    "                    if distance_in_meters < d0:\n",
    "                        distance_bonus = math.cos((distance_in_meters/d0) * (math.pi/2));\n",
    "                        score += S_distance * distance_bonus * p\n",
    "                        TP[part] += 1\n",
    "                        TPdist[part] += distance_bonus\n",
    "                        # Good identification?\n",
    "                        if (int(solution[SRC_ID]) == truth[run_id][SRC_ID]):\n",
    "                            score += S_type * p\n",
    "                            TPtype[part] += 1\n",
    "                        else:\n",
    "                            #print(\"badtype: %d\" % run_id)\n",
    "                            pass\n",
    "                    else:\n",
    "                        score += S_FP * p\n",
    "                        FL[part] += 1\n",
    "                        fllist.append((run_id,solution[SRC_ID]))\n",
    "                        #print(\"FL: %d\" % run_id)\n",
    "                        #FP[part] += 1\n",
    "                        #FN[part] += 1\n",
    "            else:\n",
    "                # There is no source in this trial\n",
    "                if (int(solution[SRC_ID]) == 0):\n",
    "                    # True negative:\n",
    "                    score += S_TN * p\n",
    "                    TN[part] += 1\n",
    "                    #print(\"TN: %d\" % run_id)\n",
    "                else:\n",
    "                    # False positive:\n",
    "                    score += S_FP * p\n",
    "                    FP[part] += 1\n",
    "                    #print(\"FP: %d\" % run_id)\n",
    "\n",
    "            # If Public field == 1 in ground truth file, add to public score:\n",
    "            if truth[run_id][PUBLIC] == 1:\n",
    "                public_score += score\n",
    "            else:\n",
    "                private_score += score\n",
    "        except Exception as e:\n",
    "            print(str(e))\n",
    "            return -1\n",
    "        \n",
    "    dump_obj(fllist, \"fl.pkl\")\n",
    "\n",
    "    if verbose:\n",
    "        part = 0\n",
    "        print(\"  Public part:\")\n",
    "        print(\"    TP =\", '{:>5}'.format(TP[part]), \"|\", \"FP =\", '{:>5}'.format(FP[part]))\n",
    "        print(\"    FL =\", '{:>5}'.format(FL[part]), \"|-----------\")\n",
    "        print(\"    FN =\", '{:>5}'.format(FN[part]), \"|\", \"TN =\", '{:>5}'.format(TN[part]))\n",
    "        print(\"\")\n",
    "        print(\"    Correct type: \", TPtype[part], \"/\", TP[part], \"=\", \"{0:.2f}\".format(100 * TPtype[part] / max(1, TP[part])), \"%\")\n",
    "        print(\"    Average distance bonus:\", \"{0:.2f}\".format(100 * TPdist[part] / max(1, TP[part])),\"%\")\n",
    "        print(\"\")\n",
    "\n",
    "    return round(public_score, 6)"
   ]
  },
  {
   "cell_type": "code",
   "execution_count": 153,
   "metadata": {},
   "outputs": [
    {
     "name": "stdout",
     "output_type": "stream",
     "text": [
      "  Public part:\n",
      "    TP =   239 | FP =     9\n",
      "    FL =   581 |-----------\n",
      "    FN =   147 | TN =   964\n",
      "\n",
      "    Correct type:  224 / 239 = 93.72 %\n",
      "    Average distance bonus: 74.27 %\n",
      "\n"
     ]
    },
    {
     "data": {
      "text/plain": [
       "41.28684"
      ]
     },
     "execution_count": 153,
     "metadata": {},
     "output_type": "execute_result"
    }
   ],
   "source": [
    "get_score(submission4, list(submission[\"RunID\"].values))"
   ]
  },
  {
   "cell_type": "code",
   "execution_count": null,
   "metadata": {},
   "outputs": [],
   "source": []
  }
 ],
 "metadata": {
  "kernelspec": {
   "display_name": "Python 3",
   "language": "python",
   "name": "python3"
  },
  "language_info": {
   "codemirror_mode": {
    "name": "ipython",
    "version": 3
   },
   "file_extension": ".py",
   "mimetype": "text/x-python",
   "name": "python",
   "nbconvert_exporter": "python",
   "pygments_lexer": "ipython3",
   "version": "3.5.2"
  }
 },
 "nbformat": 4,
 "nbformat_minor": 2
}
