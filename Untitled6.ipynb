{
 "cells": [
  {
   "cell_type": "code",
   "execution_count": 1,
   "metadata": {},
   "outputs": [],
   "source": [
    "import pandas as pd\n",
    "import pyarrow.parquet as pq\n",
    "import os\n",
    "import matplotlib\n",
    "import numpy as np\n",
    "import pickle as pkl\n",
    "import matplotlib.pyplot as plt\n",
    "import hdbscan\n",
    "import seaborn as sns\n",
    "from sklearn.decomposition import NMF\n",
    "%matplotlib inline  "
   ]
  },
  {
   "cell_type": "code",
   "execution_count": 2,
   "metadata": {},
   "outputs": [],
   "source": [
    "fldat = pd.read_csv(\"fl.csv\")\n",
    "gtruth = pd.read_csv(\"trainingAnswers.csv\")\n",
    "gtruth = gtruth.set_index(\"RunID\")\n",
    "submission = pd.read_csv(\"submission.csv\")"
   ]
  },
  {
   "cell_type": "code",
   "execution_count": 3,
   "metadata": {},
   "outputs": [],
   "source": [
    "export_data = pd.read_csv(\"export.csv\")"
   ]
  },
  {
   "cell_type": "code",
   "execution_count": 4,
   "metadata": {},
   "outputs": [],
   "source": [
    "export_data = export_data.set_index([\"runid\"])\n",
    "#export_data[\"snr\"] = export_data[\"sresbg\"] / export_data[\"sresbgs\"]"
   ]
  },
  {
   "cell_type": "code",
   "execution_count": 51,
   "metadata": {},
   "outputs": [
    {
     "name": "stdout",
     "output_type": "stream",
     "text": [
      "105896 0.29999999999999716 2.0\n",
      "109050 3.0 2.0\n",
      "106612 4.0 2.0\n",
      "106375 9.0 2.0\n",
      "105149 0.7999999999999972 2.0\n",
      "105366 1.3999999999999986 0.5\n",
      "108216 11.199999999999989 2.0\n",
      "108209 1.1000000000000014 2.0\n",
      "105415 0.29999999999999716 2.0\n",
      "107557 3.299999999999997 2.0\n",
      "109471 0.5 2.0\n",
      "106489 0.6000000000000014 2.0\n",
      "107643 5.200000000000003 2.0\n",
      "105088 0.10000000000000142 2.0\n",
      "109064 0.3000000000000007 2.0\n",
      "105314 2.3999999999999986 1.0\n",
      "108770 0.6000000000000014 2.0\n",
      "106494 3.700000000000003 0.5\n",
      "109651 3.200000000000003 2.0\n",
      "106230 4.5 2.0\n",
      "107413 0.5 2.0\n",
      "105037 3.5 0.5\n",
      "107920 1.6000000000000014 1.0\n",
      "109052 3.8999999999999986 2.0\n",
      "104967 5.099999999999994 2.0\n",
      "105521 1.2999999999999972 1.0\n",
      "107050 1.0 2.0\n",
      "106041 4.299999999999997 2.0\n",
      "105092 3.5 2.0\n",
      "106456 0.7999999999999972 2.0\n",
      "105810 0.10000000000000142 2.0\n",
      "109211 4.900000000000006 2.0\n",
      "105995 8.5 2.0\n",
      "109539 4.799999999999997 2.0\n",
      "108177 2.200000000000003 1.0\n",
      "107968 3.6000000000000014 2.0\n",
      "109693 3.299999999999997 2.0\n",
      "107157 3.200000000000003 2.0\n",
      "106681 4.700000000000003 2.0\n",
      "108172 1.5 2.0\n",
      "108889 2.4000000000000057 2.0\n",
      "106227 3.200000000000003 2.0\n",
      "105621 0.20000000000000284 1.0\n",
      "105926 4.100000000000001 1.0\n",
      "108044 0.20000000000000284 2.0\n",
      "108545 5.0 2.0\n",
      "105535 0.3999999999999986 2.0\n",
      "105654 0.3000000000000007 2.0\n",
      "108877 1.1000000000000014 1.0\n",
      "106085 4.399999999999999 2.0\n",
      "105440 1.5 2.0\n",
      "107263 0.0 2.0\n",
      "108982 1.5999999999999943 0.125\n",
      "105869 3.200000000000003 1.0\n",
      "106478 0.8999999999999986 2.0\n"
     ]
    }
   ],
   "source": [
    "lst = []\n",
    "timest = []\n",
    "for runid in fldat[\"runid\"]:\n",
    "    dat = export_data.loc[runid]\n",
    "    gt = gtruth.loc[runid]\n",
    "    idx = np.argmax(list(dat[\"snr\"]))\n",
    "    timest.append(np.abs(dat[\"ti\"].values[idx]-gt[\"SourceTime\"]))\n",
    "    lst.append(dat.values[idx][3])\n",
    "    print(runid,timest[-1],lst[-1])\n",
    "#plt.hist(lst);\n",
    "#plt.hist(timest);"
   ]
  },
  {
   "cell_type": "code",
   "execution_count": null,
   "metadata": {},
   "outputs": [],
   "source": []
  },
  {
   "cell_type": "code",
   "execution_count": 52,
   "metadata": {},
   "outputs": [
    {
     "data": {
      "text/html": [
       "<div>\n",
       "<style scoped>\n",
       "    .dataframe tbody tr th:only-of-type {\n",
       "        vertical-align: middle;\n",
       "    }\n",
       "\n",
       "    .dataframe tbody tr th {\n",
       "        vertical-align: top;\n",
       "    }\n",
       "\n",
       "    .dataframe thead th {\n",
       "        text-align: right;\n",
       "    }\n",
       "</style>\n",
       "<table border=\"1\" class=\"dataframe\">\n",
       "  <thead>\n",
       "    <tr style=\"text-align: right;\">\n",
       "      <th></th>\n",
       "      <th>snr</th>\n",
       "      <th>ti</th>\n",
       "      <th>source</th>\n",
       "      <th>toffs</th>\n",
       "      <th>sresbg</th>\n",
       "      <th>sresbgs</th>\n",
       "      <th>eproba</th>\n",
       "    </tr>\n",
       "    <tr>\n",
       "      <th>runid</th>\n",
       "      <th></th>\n",
       "      <th></th>\n",
       "      <th></th>\n",
       "      <th></th>\n",
       "      <th></th>\n",
       "      <th></th>\n",
       "      <th></th>\n",
       "    </tr>\n",
       "  </thead>\n",
       "  <tbody>\n",
       "    <tr>\n",
       "      <th>106612</th>\n",
       "      <td>1.109300</td>\n",
       "      <td>60.75</td>\n",
       "      <td>1</td>\n",
       "      <td>0.125</td>\n",
       "      <td>8.219692</td>\n",
       "      <td>7.409800</td>\n",
       "      <td>0.0</td>\n",
       "    </tr>\n",
       "    <tr>\n",
       "      <th>106612</th>\n",
       "      <td>1.199713</td>\n",
       "      <td>32.00</td>\n",
       "      <td>2</td>\n",
       "      <td>0.125</td>\n",
       "      <td>9.024751</td>\n",
       "      <td>7.522426</td>\n",
       "      <td>0.0</td>\n",
       "    </tr>\n",
       "    <tr>\n",
       "      <th>106612</th>\n",
       "      <td>2.631667</td>\n",
       "      <td>39.50</td>\n",
       "      <td>3</td>\n",
       "      <td>2.000</td>\n",
       "      <td>104.408952</td>\n",
       "      <td>39.674078</td>\n",
       "      <td>0.0</td>\n",
       "    </tr>\n",
       "    <tr>\n",
       "      <th>106612</th>\n",
       "      <td>1.036820</td>\n",
       "      <td>44.50</td>\n",
       "      <td>4</td>\n",
       "      <td>1.000</td>\n",
       "      <td>25.663708</td>\n",
       "      <td>24.752322</td>\n",
       "      <td>0.0</td>\n",
       "    </tr>\n",
       "    <tr>\n",
       "      <th>106612</th>\n",
       "      <td>1.214505</td>\n",
       "      <td>48.50</td>\n",
       "      <td>5</td>\n",
       "      <td>1.000</td>\n",
       "      <td>24.970655</td>\n",
       "      <td>20.560354</td>\n",
       "      <td>0.0</td>\n",
       "    </tr>\n",
       "    <tr>\n",
       "      <th>106612</th>\n",
       "      <td>1.231665</td>\n",
       "      <td>48.50</td>\n",
       "      <td>6</td>\n",
       "      <td>1.000</td>\n",
       "      <td>24.970655</td>\n",
       "      <td>20.273910</td>\n",
       "      <td>0.0</td>\n",
       "    </tr>\n",
       "  </tbody>\n",
       "</table>\n",
       "</div>"
      ],
      "text/plain": [
       "             snr     ti  source  toffs      sresbg    sresbgs  eproba\n",
       "runid                                                                \n",
       "106612  1.109300  60.75       1  0.125    8.219692   7.409800     0.0\n",
       "106612  1.199713  32.00       2  0.125    9.024751   7.522426     0.0\n",
       "106612  2.631667  39.50       3  2.000  104.408952  39.674078     0.0\n",
       "106612  1.036820  44.50       4  1.000   25.663708  24.752322     0.0\n",
       "106612  1.214505  48.50       5  1.000   24.970655  20.560354     0.0\n",
       "106612  1.231665  48.50       6  1.000   24.970655  20.273910     0.0"
      ]
     },
     "execution_count": 52,
     "metadata": {},
     "output_type": "execute_result"
    }
   ],
   "source": [
    "export_data.loc[106612]"
   ]
  },
  {
   "cell_type": "code",
   "execution_count": 58,
   "metadata": {},
   "outputs": [
    {
     "data": {
      "image/png": "[encoded data removed]",
      "text/plain": [
       "<Figure size 432x288 with 1 Axes>"
      ]
     },
     "metadata": {
      "needs_background": "light"
     },
     "output_type": "display_data"
    }
   ],
   "source": [
    "dtime_arr = []\n",
    "for row in submission.values:\n",
    "    if row[1] == 0:\n",
    "        continue\n",
    "    grow = gtruth.loc[row[0]]\n",
    "    if grow[\"SourceID\"] == 0:\n",
    "        continue\n",
    "    dtime_arr.append(np.abs(row[2]-grow[\"SourceTime\"]))\n",
    "plt.hist(dtime_arr,bins=64);"
   ]
  },
  {
   "cell_type": "code",
   "execution_count": null,
   "metadata": {},
   "outputs": [],
   "source": []
  }
 ],
 "metadata": {
  "kernelspec": {
   "display_name": "Python 3",
   "language": "python",
   "name": "python3"
  },
  "language_info": {
   "codemirror_mode": {
    "name": "ipython",
    "version": 3
   },
   "file_extension": ".py",
   "mimetype": "text/x-python",
   "name": "python",
   "nbconvert_exporter": "python",
   "pygments_lexer": "ipython3",
   "version": "3.5.2"
  }
 },
 "nbformat": 4,
 "nbformat_minor": 2
}
