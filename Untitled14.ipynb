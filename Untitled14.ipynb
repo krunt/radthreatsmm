{
 "cells": [
  {
   "cell_type": "code",
   "execution_count": 307,
   "metadata": {},
   "outputs": [],
   "source": [
    "import pandas as pd\n",
    "import pyarrow.parquet as pq\n",
    "import os\n",
    "import matplotlib\n",
    "import numpy as np\n",
    "import pickle as pkl\n",
    "import matplotlib.pyplot as plt\n",
    "from sklearn.metrics import confusion_matrix\n",
    "from sklearn.model_selection import train_test_split\n",
    "import hdbscan\n",
    "import seaborn as sns\n",
    "from tqdm import tqdm_notebook, tqdm\n",
    "from sklearn.decomposition import NMF\n",
    "import xgboost as xgb\n",
    "%matplotlib inline  "
   ]
  },
  {
   "cell_type": "code",
   "execution_count": 308,
   "metadata": {},
   "outputs": [],
   "source": [
    "submission = pd.read_csv(\"submission.csv\")\n",
    "gtruth = pd.read_csv(\"trainingAnswers.csv\")\n",
    "gtruth = gtruth.set_index(\"RunID\")"
   ]
  },
  {
   "cell_type": "code",
   "execution_count": 309,
   "metadata": {},
   "outputs": [],
   "source": [
    "train_ids = gtruth.index\n",
    "train_ids_set, val_ids_set = train_test_split(train_ids, random_state=13, test_size=0.20, shuffle=True)"
   ]
  },
  {
   "cell_type": "code",
   "execution_count": 345,
   "metadata": {},
   "outputs": [],
   "source": [
    "MAX_ENERGY=2000\n",
    "NCOMP_BG=8\n",
    "NCOMP_BGS=10\n",
    "#TSCALE_LIST07 = [0.064,0.125,0.25,0.5,1.0,4.0]\n",
    "TSCALE_LIST = [0.032,0.064,0.125,0.25,0.5,1.0,4.0]\n",
    "#BINS_PER_TSCALE = [512,256,192,128]\n",
    "BINS_PER_TSCALE = [128,128,128,128,128,128,128]\n",
    "#TWIN_PER_TSCALE7 = [1, 1, 1, 1, 3, 3]\n",
    "TWIN_PER_TSCALE = [1, 1, 1, 1, 1, 1, 3]\n",
    "TWIN = np.sum(TWIN_PER_TSCALE)"
   ]
  },
  {
   "cell_type": "code",
   "execution_count": 346,
   "metadata": {},
   "outputs": [
    {
     "data": {
      "application/vnd.jupyter.widget-view+json": {
       "model_id": "7dbbe030efc643a4ac1d2f5e6b580482",
       "version_major": 2,
       "version_minor": 0
      },
      "text/plain": [
       "HBox(children=(IntProgress(value=1, bar_style='info', max=1), HTML(value='')))"
      ]
     },
     "metadata": {},
     "output_type": "display_data"
    },
    {
     "name": "stderr",
     "output_type": "stream",
     "text": [
      "/usr/local/lib/python3.5/dist-packages/numpy/core/fromnumeric.py:56: FutureWarning: Series.nonzero() is deprecated and will be removed in a future version.Use Series.to_numpy().nonzero() instead\n",
      "  return getattr(obj, method)(*args, **kwds)\n"
     ]
    }
   ],
   "source": [
    "hist_list = []\n",
    "for (i,runid) in tqdm_notebook(enumerate(train_ids_set)):\n",
    "    source_id = int(gtruth.loc[runid][\"SourceID\"])\n",
    "    source_time = gtruth.loc[runid][\"SourceTime\"]\n",
    "    \n",
    "    if source_id == 0:\n",
    "        source_time = 35\n",
    "    \n",
    "    g_dat = pd.read_csv(os.path.join(\"training\", \"%d.csv\" % runid), header=None)\n",
    "    g_dat = pd.concat([g_dat, g_dat])\n",
    "    g_dat = g_dat.reset_index()\n",
    "    \n",
    "    d0=g_dat[0]*1e-6\n",
    "    d1=np.cumsum(d0)\n",
    "    d2=g_dat[1]\n",
    "    \n",
    "    tmax = d1.values[-1]\n",
    "    \n",
    "    for (k, tscale) in enumerate(TSCALE_LIST):\n",
    "        ebins = np.linspace(0,MAX_ENERGY,BINS_PER_TSCALE[k]+1)\n",
    "        invtscale=1/tscale\n",
    "        for j in range(TWIN_PER_TSCALE[k]):\n",
    "            if TWIN_PER_TSCALE[k] == 0:\n",
    "                continue\n",
    "            twinhalf = TWIN_PER_TSCALE[k]/2\n",
    "            dind = np.argwhere((d1 > source_time + (twinhalf - j - 1) * invtscale) & (d1 < source_time + (1 + twinhalf - j - 1) * invtscale)).flatten()\n",
    "            d3 = d2[dind]\n",
    "            hist = np.histogram(d3, bins=ebins)[0]\n",
    "            hist_list.append(hist)"
   ]
  },
  {
   "cell_type": "code",
   "execution_count": 347,
   "metadata": {},
   "outputs": [
    {
     "data": {
      "application/vnd.jupyter.widget-view+json": {
       "model_id": "1525afdfbd604a2d876cee0f502ae6fd",
       "version_major": 2,
       "version_minor": 0
      },
      "text/plain": [
       "HBox(children=(IntProgress(value=1, bar_style='info', max=1), HTML(value='')))"
      ]
     },
     "metadata": {},
     "output_type": "display_data"
    }
   ],
   "source": [
    "vlist_source_y = []\n",
    "for (i,runid) in tqdm_notebook(enumerate(train_ids_set)):\n",
    "    source_id = int(gtruth.loc[runid][\"SourceID\"])\n",
    "    vlist_source_y.append(source_id)"
   ]
  },
  {
   "cell_type": "code",
   "execution_count": 348,
   "metadata": {},
   "outputs": [
    {
     "data": {
      "application/vnd.jupyter.widget-view+json": {
       "model_id": "4ef2e7513a8e4e5fbd5c6793a1f283ba",
       "version_major": 2,
       "version_minor": 0
      },
      "text/plain": [
       "HBox(children=(IntProgress(value=1, bar_style='info', max=1), HTML(value='')))"
      ]
     },
     "metadata": {},
     "output_type": "display_data"
    }
   ],
   "source": [
    "num_count = 0\n",
    "bg_hist_list = [[],[],[],[],[],[],[]]\n",
    "\n",
    "for (i,runid) in tqdm_notebook(enumerate(train_ids_set)):\n",
    "    source_id = int(gtruth.loc[runid][\"SourceID\"])\n",
    "    source_time = gtruth.loc[runid][\"SourceTime\"]\n",
    "    \n",
    "    if source_id != 0:\n",
    "        continue\n",
    "        \n",
    "    if source_id == 0:\n",
    "        if num_count >= 128:\n",
    "            break\n",
    "        num_count += 1\n",
    "        source_time = 35\n",
    "    \n",
    "    g_dat = pd.read_csv(os.path.join(\"training\", \"%d.csv\" % runid), header=None)\n",
    "    g_dat = pd.concat([g_dat, g_dat])\n",
    "    g_dat = g_dat.reset_index()\n",
    "    \n",
    "    d0=g_dat[0]*1e-6\n",
    "    d1=np.cumsum(d0)\n",
    "    d2=g_dat[1]\n",
    "    \n",
    "    tmax = d1.values[-1]\n",
    "    \n",
    "    for (k, tscale) in enumerate(TSCALE_LIST):\n",
    "        ebins = np.linspace(0,MAX_ENERGY,BINS_PER_TSCALE[k]+1)\n",
    "        invtscale=1/tscale\n",
    "        for j in range(TWIN_PER_TSCALE[k]):\n",
    "            if TWIN_PER_TSCALE[k] == 0:\n",
    "                continue\n",
    "            twinhalf = TWIN_PER_TSCALE[k]/2\n",
    "            dind = np.argwhere((d1 > source_time + (twinhalf - j - 1) * invtscale) & (d1 < source_time + (1 + twinhalf - j - 1) * invtscale)).flatten()\n",
    "            d3 = d2[dind]\n",
    "            hist = np.histogram(d3, bins=ebins)[0]\n",
    "            bg_hist_list[k].append(hist)"
   ]
  },
  {
   "cell_type": "code",
   "execution_count": 349,
   "metadata": {},
   "outputs": [],
   "source": [
    "model_bg = []\n",
    "for (k, tscale) in enumerate(TSCALE_LIST):\n",
    "    model_bg_obj = NMF(NCOMP_BG, init='random', random_state=0)\n",
    "    model_bg_obj.fit(bg_hist_list[k])\n",
    "    model_bg.append(model_bg_obj)"
   ]
  },
  {
   "cell_type": "code",
   "execution_count": 350,
   "metadata": {},
   "outputs": [],
   "source": [
    "_source_data =  pd.read_csv(\"SourceInfov3/SourceData.csv\")\n",
    "sdata = _source_data\n",
    "source_hist_arr = []\n",
    "\n",
    "for (k, tscale) in enumerate(TSCALE_LIST):\n",
    "    ebins = np.linspace(0,MAX_ENERGY,BINS_PER_TSCALE[k]+1)\n",
    "    invtscale=1/tscale    \n",
    "    source_hist = np.zeros((10,BINS_PER_TSCALE[k]))\n",
    "    for shielding in range(2):\n",
    "        for source in range(5):\n",
    "            arr = []\n",
    "            for binidx in range(BINS_PER_TSCALE[k]):\n",
    "                energyFrom = binidx / BINS_PER_TSCALE[k] * MAX_ENERGY\n",
    "                energyTo = (binidx + 1) / BINS_PER_TSCALE[k] * MAX_ENERGY\n",
    "                dat = sdata[(sdata[\"Shielding\"] == shielding) & (sdata[\"SourceID\"] == source + 1) & (sdata[\"PhotonEnergy\"] > energyFrom) & (sdata[\"PhotonEnergy\"] < energyTo)]\n",
    "                val = dat[\"CountRate\"].mean()\n",
    "                arr.append(0 if np.isnan(val) else val)\n",
    "            dat1 = np.array(arr)\n",
    "            source_hist[shielding * 5 + source, :] = np.abs(dat1)\n",
    "            source_hist[shielding * 5 + source, :] /= (np.max(source_hist[shielding * 5 + source, :])+1e-9)\n",
    "    source_hist_arr.append(source_hist)"
   ]
  },
  {
   "cell_type": "code",
   "execution_count": 351,
   "metadata": {},
   "outputs": [],
   "source": [
    "model_bgs = []\n",
    "for (k, tscale) in enumerate(TSCALE_LIST):\n",
    "    model_bgs_obj = NMF(NCOMP_BG+NCOMP_BGS, init='random', random_state=0)\n",
    "    model_bgs_obj.fit(bg_hist_list[k])\n",
    "    for i in range(NCOMP_BG):\n",
    "        model_bgs_obj.components_[i] = model_bg[k].components_[i]\n",
    "    for i in range(NCOMP_BGS):\n",
    "        model_bgs_obj.components_[-NCOMP_BGS + i] = source_hist_arr[k][i]\n",
    "    model_bgs.append(model_bgs_obj)"
   ]
  },
  {
   "cell_type": "code",
   "execution_count": 352,
   "metadata": {},
   "outputs": [
    {
     "data": {
      "application/vnd.jupyter.widget-view+json": {
       "model_id": "191c5faac9c24a0aa63747e1113211cb",
       "version_major": 2,
       "version_minor": 0
      },
      "text/plain": [
       "HBox(children=(IntProgress(value=1, bar_style='info', max=1), HTML(value='')))"
      ]
     },
     "metadata": {},
     "output_type": "display_data"
    }
   ],
   "source": [
    "hist_list_arr = [[],[],[],[],[],[],[]]\n",
    "pos = 0\n",
    "for (i,runid) in tqdm_notebook(enumerate(train_ids_set)):\n",
    "    source_id = int(gtruth.loc[runid][\"SourceID\"])\n",
    "    source_time = gtruth.loc[runid][\"SourceTime\"]\n",
    "    for (k, tscale) in enumerate(TSCALE_LIST):\n",
    "        ebins = np.linspace(0,MAX_ENERGY,BINS_PER_TSCALE[k]+1)\n",
    "        invtscale=1/tscale\n",
    "        for j in range(TWIN_PER_TSCALE[k]):\n",
    "            if TWIN_PER_TSCALE[k] == 0:\n",
    "                continue\n",
    "            hist_list_arr[k].append(hist_list[pos])\n",
    "            pos += 1"
   ]
  },
  {
   "cell_type": "code",
   "execution_count": 353,
   "metadata": {},
   "outputs": [
    {
     "data": {
      "application/vnd.jupyter.widget-view+json": {
       "model_id": "78f83de0ea554ecf99ab4bc78be0ea35",
       "version_major": 2,
       "version_minor": 0
      },
      "text/plain": [
       "HBox(children=(IntProgress(value=1, bar_style='info', max=1), HTML(value='')))"
      ]
     },
     "metadata": {},
     "output_type": "display_data"
    },
    {
     "name": "stdout",
     "output_type": "stream",
     "text": [
      "(7760, 8)\n",
      "(7760, 8)\n",
      "(7760, 8)\n",
      "(7760, 8)\n",
      "(7760, 8)\n",
      "(7760, 8)\n",
      "(23280, 8)\n"
     ]
    }
   ],
   "source": [
    "div_fit_bg_arr = []\n",
    "hist_list_predict_arr = []\n",
    "for (k, tscale) in tqdm_notebook(enumerate(TSCALE_LIST)):\n",
    "    vlist_source = np.array(hist_list_arr[k]).reshape(-1, BINS_PER_TSCALE[k])\n",
    "    vlist_source_b1 = model_bg[k].transform(vlist_source) #vlist_source_b)\n",
    "    print(vlist_source_b1.shape)\n",
    "    vlist_source_s1 = model_bgs[k].transform(vlist_source) #vlist_source_b)\n",
    "\n",
    "    fit_bg = np.dot(vlist_source_b1, model_bg[k].components_)\n",
    "    diff_fit_bg = np.abs(fit_bg - vlist_source)\n",
    "\n",
    "    fit_bgs = np.dot(vlist_source_s1, model_bgs[k].components_)\n",
    "    diff_fit_bgs = np.abs(fit_bgs - vlist_source)\n",
    "\n",
    "    BINS = 64\n",
    "    div_fit_bg = np.linalg.norm(diff_fit_bg[:,:BINS],axis=1) / np.linalg.norm(diff_fit_bgs[:,:BINS],axis=1)\n",
    "    div_fit_bg_arr.append(div_fit_bg)\n",
    "\n",
    "    vlist_source1 = model_bgs[k].transform(vlist_source)\n",
    "    hist_list_predict_arr.append(vlist_source1)"
   ]
  },
  {
   "cell_type": "code",
   "execution_count": 354,
   "metadata": {},
   "outputs": [
    {
     "data": {
      "application/vnd.jupyter.widget-view+json": {
       "model_id": "e021da8f4ccb446bbee60acbe8c527c5",
       "version_major": 2,
       "version_minor": 0
      },
      "text/plain": [
       "HBox(children=(IntProgress(value=1, bar_style='info', max=1), HTML(value='')))"
      ]
     },
     "metadata": {},
     "output_type": "display_data"
    }
   ],
   "source": [
    "div_fit_bg_predict = []\n",
    "hist_list_predict = []\n",
    "\n",
    "pos = [0,0,0,0,0,0,0]\n",
    "for (i,runid) in tqdm_notebook(enumerate(train_ids_set)):\n",
    "    source_id = int(gtruth.loc[runid][\"SourceID\"])\n",
    "    source_time = gtruth.loc[runid][\"SourceTime\"]\n",
    "    for (k, tscale) in enumerate(TSCALE_LIST):\n",
    "        ebins = np.linspace(0,MAX_ENERGY,BINS_PER_TSCALE[k]+1)\n",
    "        invtscale=1/tscale\n",
    "        for j in range(TWIN_PER_TSCALE[k]):\n",
    "            if TWIN_PER_TSCALE[k] == 0:\n",
    "                continue\n",
    "            hist_list_predict.append(hist_list_predict_arr[k][pos[k]])\n",
    "            div_fit_bg_predict.append(div_fit_bg_arr[k][pos[k]])\n",
    "            pos[k] += 1"
   ]
  },
  {
   "cell_type": "code",
   "execution_count": 355,
   "metadata": {},
   "outputs": [],
   "source": [
    "div_fit_bg = np.array(div_fit_bg_predict).reshape(-1, TWIN)\n",
    "hist_list_predict = np.vstack(hist_list_predict)\n",
    "vlist_source1 = np.array(hist_list_predict).reshape(-1, (NCOMP_BG+NCOMP_BGS)*TWIN)\n",
    "vlist_source1 = np.hstack([vlist_source1, div_fit_bg])"
   ]
  },
  {
   "cell_type": "code",
   "execution_count": 356,
   "metadata": {},
   "outputs": [
    {
     "data": {
      "text/plain": [
       "XGBClassifier(base_score=0.5, booster='gbtree', colsample_bylevel=1,\n",
       "       colsample_bytree=1, gamma=0, learning_rate=0.1, max_delta_step=0,\n",
       "       max_depth=6, min_child_weight=1, missing=None, n_estimators=300,\n",
       "       n_jobs=1, nthread=None, objective='multi:softprob', random_state=0,\n",
       "       reg_alpha=0, reg_lambda=1, scale_pos_weight=1, seed=None,\n",
       "       silent=True, subsample=1)"
      ]
     },
     "execution_count": 356,
     "metadata": {},
     "output_type": "execute_result"
    }
   ],
   "source": [
    "classifier = xgb.XGBClassifier(max_depth=6, n_estimators=300)\n",
    "X_train, X_test, y_train, y_test = train_test_split(vlist_source1, vlist_source_y, test_size=0.2, random_state=13)\n",
    "classifier.fit(X_train, y_train)"
   ]
  },
  {
   "cell_type": "code",
   "execution_count": 357,
   "metadata": {},
   "outputs": [
    {
     "name": "stderr",
     "output_type": "stream",
     "text": [
      "/home/alexey/.local/lib/python3.5/site-packages/sklearn/preprocessing/label.py:151: DeprecationWarning: The truth value of an empty array is ambiguous. Returning False, but in future this will result in an error. Use `array.size > 0` to check that an array is not empty.\n",
      "  if diff:\n"
     ]
    }
   ],
   "source": [
    "conf_mat = confusion_matrix(classifier.predict(X_test), y_test).ravel()"
   ]
  },
  {
   "cell_type": "code",
   "execution_count": 358,
   "metadata": {},
   "outputs": [
    {
     "data": {
      "text/plain": [
       "0.9400773195876289"
      ]
     },
     "execution_count": 358,
     "metadata": {},
     "output_type": "execute_result"
    }
   ],
   "source": [
    "np.sum([conf_mat[7*i+i] for i in range(7)]) / np.sum(conf_mat)"
   ]
  },
  {
   "cell_type": "code",
   "execution_count": 359,
   "metadata": {},
   "outputs": [
    {
     "data": {
      "text/plain": [
       "0.07159904534606205"
      ]
     },
     "execution_count": 359,
     "metadata": {},
     "output_type": "execute_result"
    }
   ],
   "source": [
    "np.sum([conf_mat[i] for i in range(1,7)]) / np.sum(conf_mat[0:7])"
   ]
  },
  {
   "cell_type": "code",
   "execution_count": 360,
   "metadata": {},
   "outputs": [
    {
     "data": {
      "text/plain": [
       "array([[778,  16,   9,   9,   5,  13,   8],\n",
       "       [  2, 106,   0,   0,   0,   0,   3],\n",
       "       [  1,   0, 114,   0,   0,   0,   0],\n",
       "       [  0,   1,   1, 122,   0,   0,   0],\n",
       "       [  0,   1,   0,   0, 136,   1,   0],\n",
       "       [  0,   0,   0,   0,   0, 116,  16],\n",
       "       [  0,   0,   0,   0,   0,   7,  87]])"
      ]
     },
     "execution_count": 360,
     "metadata": {},
     "output_type": "execute_result"
    }
   ],
   "source": [
    "conf_mat.reshape(7,7)"
   ]
  },
  {
   "cell_type": "code",
   "execution_count": 361,
   "metadata": {},
   "outputs": [
    {
     "data": {
      "text/plain": [
       "[<matplotlib.lines.Line2D at 0x7f7c48103588>]"
      ]
     },
     "execution_count": 361,
     "metadata": {},
     "output_type": "execute_result"
    },
    {
     "data": {
      "image/png": "[encoded data removed]",
      "text/plain": [
       "<Figure size 1152x576 with 1 Axes>"
      ]
     },
     "metadata": {
      "needs_background": "light"
     },
     "output_type": "display_data"
    }
   ],
   "source": [
    "plt.figure(figsize=(16,8))\n",
    "#xgb.plot_importance(classifier)\n",
    "#print(classifier.feature_importances_)\n",
    "plt.plot(classifier.feature_importances_)\n",
    "#print([(i,f) for (i,f) in enumerate(classifier.feature_importances_)])"
   ]
  },
  {
   "cell_type": "code",
   "execution_count": 364,
   "metadata": {},
   "outputs": [],
   "source": [
    "def dump_obj(obj, fpath):\n",
    "    fd = open(fpath,\"wb\")\n",
    "    pkl.dump(obj, fd)\n",
    "    fd.close()\n",
    "    \n",
    "dump_obj(classifier, \"multiclass_tree.pkl\")\n",
    "dump_obj(model_bg[0], \"model_bg.pkl\")\n",
    "dump_obj(model_bgs[0], \"model_bgs.pkl\")\n",
    "dump_obj(model_bgs[0], \"model_bgs1.pkl\")"
   ]
  },
  {
   "cell_type": "code",
   "execution_count": null,
   "metadata": {},
   "outputs": [],
   "source": []
  }
 ],
 "metadata": {
  "kernelspec": {
   "display_name": "Python 3",
   "language": "python",
   "name": "python3"
  },
  "language_info": {
   "codemirror_mode": {
    "name": "ipython",
    "version": 3
   },
   "file_extension": ".py",
   "mimetype": "text/x-python",
   "name": "python",
   "nbconvert_exporter": "python",
   "pygments_lexer": "ipython3",
   "version": "3.5.2"
  }
 },
 "nbformat": 4,
 "nbformat_minor": 2
}
